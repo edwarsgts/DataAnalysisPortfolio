{
 "cells": [
  {
   "cell_type": "markdown",
   "id": "d03be4b3-fc9a-43c7-ae0a-753bf56af684",
   "metadata": {},
   "source": [
    "# Project Setup"
   ]
  },
  {
   "cell_type": "code",
   "execution_count": 101,
   "id": "d448d7bf",
   "metadata": {},
   "outputs": [],
   "source": [
    "import pandas as pd\n",
    "import numpy as np\n",
    "import matplotlib.pyplot as plt\n",
    "import seaborn as sns\n",
    "import datetime\n",
    "from dateutil.parser import parse\n",
    "from statsmodels.stats.weightstats import ztest\n",
    "\n",
    "filepath = '/Users/edwardgoh/Desktop/DA_projects/Portfolio/Data/supermart_grocery_sales/Supermart Grocery Sales - Retail Analytics Dataset.csv'"
   ]
  },
  {
   "cell_type": "code",
   "execution_count": 2,
   "id": "11cd98a5-3ae0-4920-93e2-99a368a4164a",
   "metadata": {},
   "outputs": [],
   "source": [
    "pd.set_option('display.float_format', '{:0.4f}'.format)\n",
    "\n",
    "sns.set_style('whitegrid')\n",
    "sns.set_palette('muted')"
   ]
  },
  {
   "cell_type": "markdown",
   "id": "82e74b48-8e46-4e01-a3cb-6cf4cdf6850f",
   "metadata": {},
   "source": [
    "## Background"
   ]
  },
  {
   "cell_type": "markdown",
   "id": "daa0a50a-a851-455a-b000-567226bc062b",
   "metadata": {
    "tags": []
   },
   "source": [
    "# Data pre-processing\n"
   ]
  },
  {
   "cell_type": "markdown",
   "id": "f325da35-2402-4035-8019-7da566e05fd1",
   "metadata": {
    "tags": []
   },
   "source": [
    "## Loading Data"
   ]
  },
  {
   "cell_type": "code",
   "execution_count": 3,
   "id": "5b4f6cfe",
   "metadata": {
    "tags": []
   },
   "outputs": [
    {
     "name": "stdout",
     "output_type": "stream",
     "text": [
      "(9994, 11)\n"
     ]
    },
    {
     "data": {
      "text/html": [
       "<div>\n",
       "<style scoped>\n",
       "    .dataframe tbody tr th:only-of-type {\n",
       "        vertical-align: middle;\n",
       "    }\n",
       "\n",
       "    .dataframe tbody tr th {\n",
       "        vertical-align: top;\n",
       "    }\n",
       "\n",
       "    .dataframe thead th {\n",
       "        text-align: right;\n",
       "    }\n",
       "</style>\n",
       "<table border=\"1\" class=\"dataframe\">\n",
       "  <thead>\n",
       "    <tr style=\"text-align: right;\">\n",
       "      <th></th>\n",
       "      <th>Order ID</th>\n",
       "      <th>Customer Name</th>\n",
       "      <th>Category</th>\n",
       "      <th>Sub Category</th>\n",
       "      <th>City</th>\n",
       "      <th>Order Date</th>\n",
       "      <th>Region</th>\n",
       "      <th>Sales</th>\n",
       "      <th>Discount</th>\n",
       "      <th>Profit</th>\n",
       "      <th>State</th>\n",
       "    </tr>\n",
       "  </thead>\n",
       "  <tbody>\n",
       "    <tr>\n",
       "      <th>0</th>\n",
       "      <td>OD1</td>\n",
       "      <td>Harish</td>\n",
       "      <td>Oil &amp; Masala</td>\n",
       "      <td>Masalas</td>\n",
       "      <td>Vellore</td>\n",
       "      <td>11-08-2017</td>\n",
       "      <td>North</td>\n",
       "      <td>1254</td>\n",
       "      <td>0.1200</td>\n",
       "      <td>401.2800</td>\n",
       "      <td>Tamil Nadu</td>\n",
       "    </tr>\n",
       "    <tr>\n",
       "      <th>1</th>\n",
       "      <td>OD2</td>\n",
       "      <td>Sudha</td>\n",
       "      <td>Beverages</td>\n",
       "      <td>Health Drinks</td>\n",
       "      <td>Krishnagiri</td>\n",
       "      <td>11-08-2017</td>\n",
       "      <td>South</td>\n",
       "      <td>749</td>\n",
       "      <td>0.1800</td>\n",
       "      <td>149.8000</td>\n",
       "      <td>Tamil Nadu</td>\n",
       "    </tr>\n",
       "    <tr>\n",
       "      <th>2</th>\n",
       "      <td>OD3</td>\n",
       "      <td>Hussain</td>\n",
       "      <td>Food Grains</td>\n",
       "      <td>Atta &amp; Flour</td>\n",
       "      <td>Perambalur</td>\n",
       "      <td>06-12-2017</td>\n",
       "      <td>West</td>\n",
       "      <td>2360</td>\n",
       "      <td>0.2100</td>\n",
       "      <td>165.2000</td>\n",
       "      <td>Tamil Nadu</td>\n",
       "    </tr>\n",
       "    <tr>\n",
       "      <th>3</th>\n",
       "      <td>OD4</td>\n",
       "      <td>Jackson</td>\n",
       "      <td>Fruits &amp; Veggies</td>\n",
       "      <td>Fresh Vegetables</td>\n",
       "      <td>Dharmapuri</td>\n",
       "      <td>10-11-2016</td>\n",
       "      <td>South</td>\n",
       "      <td>896</td>\n",
       "      <td>0.2500</td>\n",
       "      <td>89.6000</td>\n",
       "      <td>Tamil Nadu</td>\n",
       "    </tr>\n",
       "    <tr>\n",
       "      <th>4</th>\n",
       "      <td>OD5</td>\n",
       "      <td>Ridhesh</td>\n",
       "      <td>Food Grains</td>\n",
       "      <td>Organic Staples</td>\n",
       "      <td>Ooty</td>\n",
       "      <td>10-11-2016</td>\n",
       "      <td>South</td>\n",
       "      <td>2355</td>\n",
       "      <td>0.2600</td>\n",
       "      <td>918.4500</td>\n",
       "      <td>Tamil Nadu</td>\n",
       "    </tr>\n",
       "  </tbody>\n",
       "</table>\n",
       "</div>"
      ],
      "text/plain": [
       "  Order ID Customer Name          Category      Sub Category         City  \\\n",
       "0      OD1        Harish      Oil & Masala           Masalas      Vellore   \n",
       "1      OD2         Sudha         Beverages     Health Drinks  Krishnagiri   \n",
       "2      OD3       Hussain       Food Grains      Atta & Flour   Perambalur   \n",
       "3      OD4       Jackson  Fruits & Veggies  Fresh Vegetables   Dharmapuri   \n",
       "4      OD5       Ridhesh       Food Grains   Organic Staples         Ooty   \n",
       "\n",
       "   Order Date Region  Sales  Discount   Profit       State  \n",
       "0  11-08-2017  North   1254    0.1200 401.2800  Tamil Nadu  \n",
       "1  11-08-2017  South    749    0.1800 149.8000  Tamil Nadu  \n",
       "2  06-12-2017   West   2360    0.2100 165.2000  Tamil Nadu  \n",
       "3  10-11-2016  South    896    0.2500  89.6000  Tamil Nadu  \n",
       "4  10-11-2016  South   2355    0.2600 918.4500  Tamil Nadu  "
      ]
     },
     "execution_count": 3,
     "metadata": {},
     "output_type": "execute_result"
    }
   ],
   "source": [
    "# Loading data into sgs(supermart grocery sales) dataframe\n",
    "raw_sgs = pd.read_csv(filepath)\n",
    "\n",
    "print(raw_sgs.shape)\n",
    "raw_sgs.head()"
   ]
  },
  {
   "cell_type": "markdown",
   "id": "9909feaf-1f8c-448f-b0bc-9fa47c6805c1",
   "metadata": {},
   "source": [
    "Previewing the dataset shows that there are 9994 entries with 11 columns. \n",
    "\n",
    "There is the Order ID column which is the primary key. \n",
    "Customer Name column that records the customer that made the purchase\n",
    "\n",
    "For categorical columns ,there are the [category, sub category, city, region, state]columns that has some detail about each individual order.\n",
    "\n",
    "There is a Order Date column recording the dates of the order, and finally there is the numerical cols like [Sales, Discount and Profit]"
   ]
  },
  {
   "cell_type": "markdown",
   "id": "04b03c9e-efcc-4dcb-8949-8f537411b7ee",
   "metadata": {
    "tags": []
   },
   "source": [
    "## Data Cleaning"
   ]
  },
  {
   "cell_type": "markdown",
   "id": "d20cf4d0-dda3-45a0-ac0f-669b8a07d09b",
   "metadata": {},
   "source": [
    "There are a few things that needs to be checked and done before the analysis can proceed.\n",
    "1. Renaming columns to eliminate empty space in between column names\n",
    "2. Validating that columns have the appropriate data type\n",
    "3. Check and remove N/A values or duplicated values if any\n",
    "4. Check for anomalies in categorical and numerical columns (typo errors, values that don't make sense, etc.)\n",
    "\n",
    "---\n",
    "### Renaming Columns for easier access"
   ]
  },
  {
   "cell_type": "code",
   "execution_count": 4,
   "id": "6e30aa55",
   "metadata": {},
   "outputs": [],
   "source": [
    "rename_dict = {'Order ID':'order_id',\n",
    "               'Customer Name':'customer_name',\n",
    "               'Category':'category',\n",
    "               'Sub Category':'sub_category',\n",
    "               'City':'city',\n",
    "               'Order Date':'order_date',\n",
    "               'Region':'region',\n",
    "               'Sales':'sale_price',\n",
    "               'Discount':'discount',\n",
    "               'Profit':'profit',\n",
    "               'State':'state'\n",
    "              }\n",
    "\n",
    "raw_sgs = raw_sgs.rename(columns=rename_dict).copy()"
   ]
  },
  {
   "cell_type": "markdown",
   "id": "1a537464-12cc-4ad7-b2ee-4706ed497cf4",
   "metadata": {},
   "source": [
    "### Validating the datatype of each column"
   ]
  },
  {
   "cell_type": "markdown",
   "id": "f26dde4e-a55d-4457-a45f-55c9b993f430",
   "metadata": {},
   "source": [
    "Checking the datatypes of the resepective columns."
   ]
  },
  {
   "cell_type": "code",
   "execution_count": 5,
   "id": "2a2e2048-8d4c-412d-8fe6-1e7793d27811",
   "metadata": {},
   "outputs": [
    {
     "name": "stdout",
     "output_type": "stream",
     "text": [
      "order_id has the datatype: \t object\n",
      "customer_name has the datatype: \t object\n",
      "category has the datatype: \t object\n",
      "sub_category has the datatype: \t object\n",
      "city has the datatype: \t object\n",
      "order_date has the datatype: \t object\n",
      "region has the datatype: \t object\n",
      "sale_price has the datatype: \t int64\n",
      "discount has the datatype: \t float64\n",
      "profit has the datatype: \t float64\n",
      "state has the datatype: \t object\n"
     ]
    }
   ],
   "source": [
    "for col in raw_sgs.columns:\n",
    "    print(col + ' has the datatype: \\t',  raw_sgs[col].dtype)"
   ]
  },
  {
   "cell_type": "markdown",
   "id": "b2054d53-603c-4ac8-a263-a38d6ab7ff92",
   "metadata": {},
   "source": [
    "Looking at the results, the order date is not recognised as a datetime object. It needs to be converted to a datetime object column.\n",
    "\n",
    "At the same time, the year and month data is also extracted."
   ]
  },
  {
   "cell_type": "code",
   "execution_count": 6,
   "id": "8629885a",
   "metadata": {},
   "outputs": [],
   "source": [
    "# Converting order_date to datetime datatype\n",
    "raw_sgs['order_date'] = pd.to_datetime(raw_sgs['order_date'])\n",
    "\n",
    "raw_sgs['year'] = raw_sgs['order_date'].apply(lambda x : x.year)\n",
    "raw_sgs['month'] = raw_sgs['order_date'].apply(lambda x : x.month)"
   ]
  },
  {
   "cell_type": "markdown",
   "id": "1a082730-404a-4ce8-af9b-b550c31ea17e",
   "metadata": {},
   "source": [
    "### Checking for N/A and duplicate values"
   ]
  },
  {
   "cell_type": "code",
   "execution_count": 7,
   "id": "de2cdec0",
   "metadata": {},
   "outputs": [
    {
     "data": {
      "text/plain": [
       "order_id         False\n",
       "customer_name    False\n",
       "category         False\n",
       "sub_category     False\n",
       "city             False\n",
       "order_date       False\n",
       "region           False\n",
       "sale_price       False\n",
       "discount         False\n",
       "profit           False\n",
       "state            False\n",
       "year             False\n",
       "month            False\n",
       "dtype: bool"
      ]
     },
     "execution_count": 7,
     "metadata": {},
     "output_type": "execute_result"
    }
   ],
   "source": [
    "raw_sgs.isna().all()"
   ]
  },
  {
   "cell_type": "code",
   "execution_count": 8,
   "id": "a6375a88-54ad-4a79-9da8-889c4623bb86",
   "metadata": {},
   "outputs": [
    {
     "data": {
      "text/plain": [
       "0"
      ]
     },
     "execution_count": 8,
     "metadata": {},
     "output_type": "execute_result"
    }
   ],
   "source": [
    "raw_sgs.duplicated().sum()"
   ]
  },
  {
   "cell_type": "markdown",
   "id": "89352192-fd8d-41b4-aac2-46655e77d4ac",
   "metadata": {
    "tags": []
   },
   "source": [
    "### Checking for weird values or any error in data\n",
    "\n",
    "First, the categorical columns are checked. Histograms for the columns were plotted for easier inspection"
   ]
  },
  {
   "cell_type": "code",
   "execution_count": 9,
   "id": "42ccda58-beb1-4bd2-a2d3-e668b4aab607",
   "metadata": {},
   "outputs": [],
   "source": [
    "categorical_columns = ['category','sub_category','city','region', 'state']"
   ]
  },
  {
   "cell_type": "code",
   "execution_count": 10,
   "id": "09683cab-c914-43db-a086-4d1dfe8fce28",
   "metadata": {},
   "outputs": [
    {
     "data": {
      "image/png": "[encoded data removed]",
      "text/plain": [
       "<Figure size 720x432 with 1 Axes>"
      ]
     },
     "metadata": {},
     "output_type": "display_data"
    },
    {
     "data": {
      "image/png": "[encoded data removed]",
      "text/plain": [
       "<Figure size 720x432 with 1 Axes>"
      ]
     },
     "metadata": {},
     "output_type": "display_data"
    },
    {
     "data": {
      "image/png": "[encoded data removed]",
      "text/plain": [
       "<Figure size 720x432 with 1 Axes>"
      ]
     },
     "metadata": {},
     "output_type": "display_data"
    },
    {
     "data": {
      "image/png": "[encoded data removed]",
      "text/plain": [
       "<Figure size 720x432 with 1 Axes>"
      ]
     },
     "metadata": {},
     "output_type": "display_data"
    },
    {
     "data": {
      "image/png": "[encoded data removed]",
      "text/plain": [
       "<Figure size 720x432 with 1 Axes>"
      ]
     },
     "metadata": {},
     "output_type": "display_data"
    }
   ],
   "source": [
    "def plot_all_hist(df, columns):\n",
    "    for col in columns:\n",
    "        plt.figure(figsize=(10,6))\n",
    "        sns.countplot(x=col, data=df)\n",
    "        plt.xlabel(col.capitalize())\n",
    "        plt.xticks(rotation='90')\n",
    "        plt.tight_layout()\n",
    "        plt.show()\n",
    "\n",
    "plot_all_hist(raw_sgs, categorical_columns)"
   ]
  },
  {
   "cell_type": "code",
   "execution_count": 11,
   "id": "3ceea803-b027-4092-9038-8c8e0bddf913",
   "metadata": {},
   "outputs": [
    {
     "data": {
      "text/plain": [
       "West       3203\n",
       "East       2848\n",
       "Central    2323\n",
       "South      1619\n",
       "North         1\n",
       "Name: region, dtype: int64"
      ]
     },
     "execution_count": 11,
     "metadata": {},
     "output_type": "execute_result"
    }
   ],
   "source": [
    "raw_sgs.region.value_counts()"
   ]
  },
  {
   "cell_type": "markdown",
   "id": "11c756b9-68aa-4dfa-998b-bd20920951df",
   "metadata": {},
   "source": [
    "From the histograms, the findings are:\n",
    "1. Region column - there is only one row of data for the north region. Considering the fact that it is only one column, it is safe to drop it without much concern of loss of data. \n",
    "2. The State column contains exclusively one value, which is \"Tamil Nadu\". This might be a dataset that is filtered by this state in the first place. Considering this, it is safe to drop the entire column as it won't be helpful in the analysis."
   ]
  },
  {
   "cell_type": "code",
   "execution_count": 12,
   "id": "6ebb1fde-7649-4779-b968-fb4b929cd59e",
   "metadata": {},
   "outputs": [],
   "source": [
    "# Removing the state column\n",
    "sgs = raw_sgs.drop(columns=['state']).copy()\n",
    "\n",
    "# Removing the row of data that contains region == North\n",
    "index_to_remove = sgs[sgs.region == 'North'].index.values\n",
    "sgs = sgs.drop(index = index_to_remove).copy()"
   ]
  },
  {
   "cell_type": "code",
   "execution_count": 13,
   "id": "27e24151-5c09-4aff-abff-6640f7961ca9",
   "metadata": {},
   "outputs": [
    {
     "name": "stdout",
     "output_type": "stream",
     "text": [
      "Index(['order_id', 'customer_name', 'category', 'sub_category', 'city',\n",
      "       'order_date', 'region', 'sale_price', 'discount', 'profit', 'year',\n",
      "       'month'],\n",
      "      dtype='object')\n",
      "\n",
      "West       3203\n",
      "East       2848\n",
      "Central    2323\n",
      "South      1619\n",
      "Name: region, dtype: int64\n"
     ]
    }
   ],
   "source": [
    "# Vallidating that the \"North\" entry has been removed\n",
    "\n",
    "print(sgs.columns)\n",
    "print(\"\")\n",
    "print(sgs.region.value_counts())"
   ]
  },
  {
   "cell_type": "markdown",
   "id": "4b0811f1-58da-42d5-8fa8-f518037e337b",
   "metadata": {},
   "source": [
    "### Checking numerical columns anomalies\n",
    "\n",
    "The main item of interest to check for if the columns contains any negative value. It is fine for the columns to contain negative value, it would mean that the order's are incurring losses, but it would be a good check to understand the data more."
   ]
  },
  {
   "cell_type": "code",
   "execution_count": 14,
   "id": "ba1018de-f95e-4109-9057-fa54b0e32dcf",
   "metadata": {},
   "outputs": [],
   "source": [
    "numerical_cols = ['sale_price','discount','profit']"
   ]
  },
  {
   "cell_type": "code",
   "execution_count": 15,
   "id": "a3a78231-2640-4db3-9478-c76cce78c98c",
   "metadata": {},
   "outputs": [
    {
     "data": {
      "text/html": [
       "<div>\n",
       "<style scoped>\n",
       "    .dataframe tbody tr th:only-of-type {\n",
       "        vertical-align: middle;\n",
       "    }\n",
       "\n",
       "    .dataframe tbody tr th {\n",
       "        vertical-align: top;\n",
       "    }\n",
       "\n",
       "    .dataframe thead th {\n",
       "        text-align: right;\n",
       "    }\n",
       "</style>\n",
       "<table border=\"1\" class=\"dataframe\">\n",
       "  <thead>\n",
       "    <tr style=\"text-align: right;\">\n",
       "      <th></th>\n",
       "      <th>sale_price</th>\n",
       "      <th>discount</th>\n",
       "      <th>profit</th>\n",
       "    </tr>\n",
       "  </thead>\n",
       "  <tbody>\n",
       "    <tr>\n",
       "      <th>count</th>\n",
       "      <td>9993.0000</td>\n",
       "      <td>9993.0000</td>\n",
       "      <td>9993.0000</td>\n",
       "    </tr>\n",
       "    <tr>\n",
       "      <th>mean</th>\n",
       "      <td>1496.6204</td>\n",
       "      <td>0.2268</td>\n",
       "      <td>374.9344</td>\n",
       "    </tr>\n",
       "    <tr>\n",
       "      <th>std</th>\n",
       "      <td>577.5828</td>\n",
       "      <td>0.0746</td>\n",
       "      <td>239.9447</td>\n",
       "    </tr>\n",
       "    <tr>\n",
       "      <th>min</th>\n",
       "      <td>500.0000</td>\n",
       "      <td>0.1000</td>\n",
       "      <td>25.2500</td>\n",
       "    </tr>\n",
       "    <tr>\n",
       "      <th>25%</th>\n",
       "      <td>1000.0000</td>\n",
       "      <td>0.1600</td>\n",
       "      <td>180.0000</td>\n",
       "    </tr>\n",
       "    <tr>\n",
       "      <th>50%</th>\n",
       "      <td>1498.0000</td>\n",
       "      <td>0.2300</td>\n",
       "      <td>320.7600</td>\n",
       "    </tr>\n",
       "    <tr>\n",
       "      <th>75%</th>\n",
       "      <td>1995.0000</td>\n",
       "      <td>0.2900</td>\n",
       "      <td>525.6900</td>\n",
       "    </tr>\n",
       "    <tr>\n",
       "      <th>max</th>\n",
       "      <td>2500.0000</td>\n",
       "      <td>0.3500</td>\n",
       "      <td>1120.9500</td>\n",
       "    </tr>\n",
       "  </tbody>\n",
       "</table>\n",
       "</div>"
      ],
      "text/plain": [
       "       sale_price  discount    profit\n",
       "count   9993.0000 9993.0000 9993.0000\n",
       "mean    1496.6204    0.2268  374.9344\n",
       "std      577.5828    0.0746  239.9447\n",
       "min      500.0000    0.1000   25.2500\n",
       "25%     1000.0000    0.1600  180.0000\n",
       "50%     1498.0000    0.2300  320.7600\n",
       "75%     1995.0000    0.2900  525.6900\n",
       "max     2500.0000    0.3500 1120.9500"
      ]
     },
     "execution_count": 15,
     "metadata": {},
     "output_type": "execute_result"
    }
   ],
   "source": [
    "sgs[numerical_cols].describe()"
   ]
  },
  {
   "cell_type": "markdown",
   "id": "0007b07f-7442-4a99-affe-ef1673fa3444",
   "metadata": {},
   "source": [
    "It looks like there were no losses for the orders as the profit column is non-negative. With this, the data cleaning and validation process is done."
   ]
  },
  {
   "cell_type": "code",
   "execution_count": 16,
   "id": "dadd9d73-44e6-4b70-b354-9ba2b6a3cf01",
   "metadata": {},
   "outputs": [
    {
     "data": {
      "text/html": [
       "<div>\n",
       "<style scoped>\n",
       "    .dataframe tbody tr th:only-of-type {\n",
       "        vertical-align: middle;\n",
       "    }\n",
       "\n",
       "    .dataframe tbody tr th {\n",
       "        vertical-align: top;\n",
       "    }\n",
       "\n",
       "    .dataframe thead th {\n",
       "        text-align: right;\n",
       "    }\n",
       "</style>\n",
       "<table border=\"1\" class=\"dataframe\">\n",
       "  <thead>\n",
       "    <tr style=\"text-align: right;\">\n",
       "      <th></th>\n",
       "      <th>order_id</th>\n",
       "      <th>customer_name</th>\n",
       "      <th>category</th>\n",
       "      <th>sub_category</th>\n",
       "      <th>city</th>\n",
       "      <th>order_date</th>\n",
       "      <th>region</th>\n",
       "      <th>sale_price</th>\n",
       "      <th>discount</th>\n",
       "      <th>profit</th>\n",
       "      <th>year</th>\n",
       "      <th>month</th>\n",
       "      <th>original_price</th>\n",
       "      <th>discount_amount</th>\n",
       "    </tr>\n",
       "  </thead>\n",
       "  <tbody>\n",
       "    <tr>\n",
       "      <th>1</th>\n",
       "      <td>OD2</td>\n",
       "      <td>Sudha</td>\n",
       "      <td>Beverages</td>\n",
       "      <td>Health Drinks</td>\n",
       "      <td>Krishnagiri</td>\n",
       "      <td>2017-11-08</td>\n",
       "      <td>South</td>\n",
       "      <td>749</td>\n",
       "      <td>0.1800</td>\n",
       "      <td>149.8000</td>\n",
       "      <td>2017</td>\n",
       "      <td>11</td>\n",
       "      <td>913.4146</td>\n",
       "      <td>164.4146</td>\n",
       "    </tr>\n",
       "    <tr>\n",
       "      <th>2</th>\n",
       "      <td>OD3</td>\n",
       "      <td>Hussain</td>\n",
       "      <td>Food Grains</td>\n",
       "      <td>Atta &amp; Flour</td>\n",
       "      <td>Perambalur</td>\n",
       "      <td>2017-06-12</td>\n",
       "      <td>West</td>\n",
       "      <td>2360</td>\n",
       "      <td>0.2100</td>\n",
       "      <td>165.2000</td>\n",
       "      <td>2017</td>\n",
       "      <td>6</td>\n",
       "      <td>2987.3418</td>\n",
       "      <td>627.3418</td>\n",
       "    </tr>\n",
       "    <tr>\n",
       "      <th>3</th>\n",
       "      <td>OD4</td>\n",
       "      <td>Jackson</td>\n",
       "      <td>Fruits &amp; Veggies</td>\n",
       "      <td>Fresh Vegetables</td>\n",
       "      <td>Dharmapuri</td>\n",
       "      <td>2016-10-11</td>\n",
       "      <td>South</td>\n",
       "      <td>896</td>\n",
       "      <td>0.2500</td>\n",
       "      <td>89.6000</td>\n",
       "      <td>2016</td>\n",
       "      <td>10</td>\n",
       "      <td>1194.6667</td>\n",
       "      <td>298.6667</td>\n",
       "    </tr>\n",
       "    <tr>\n",
       "      <th>4</th>\n",
       "      <td>OD5</td>\n",
       "      <td>Ridhesh</td>\n",
       "      <td>Food Grains</td>\n",
       "      <td>Organic Staples</td>\n",
       "      <td>Ooty</td>\n",
       "      <td>2016-10-11</td>\n",
       "      <td>South</td>\n",
       "      <td>2355</td>\n",
       "      <td>0.2600</td>\n",
       "      <td>918.4500</td>\n",
       "      <td>2016</td>\n",
       "      <td>10</td>\n",
       "      <td>3182.4324</td>\n",
       "      <td>827.4324</td>\n",
       "    </tr>\n",
       "    <tr>\n",
       "      <th>5</th>\n",
       "      <td>OD6</td>\n",
       "      <td>Adavan</td>\n",
       "      <td>Food Grains</td>\n",
       "      <td>Organic Staples</td>\n",
       "      <td>Dharmapuri</td>\n",
       "      <td>2015-06-09</td>\n",
       "      <td>West</td>\n",
       "      <td>2305</td>\n",
       "      <td>0.2600</td>\n",
       "      <td>322.7000</td>\n",
       "      <td>2015</td>\n",
       "      <td>6</td>\n",
       "      <td>3114.8649</td>\n",
       "      <td>809.8649</td>\n",
       "    </tr>\n",
       "  </tbody>\n",
       "</table>\n",
       "</div>"
      ],
      "text/plain": [
       "  order_id customer_name          category      sub_category         city  \\\n",
       "1      OD2         Sudha         Beverages     Health Drinks  Krishnagiri   \n",
       "2      OD3       Hussain       Food Grains      Atta & Flour   Perambalur   \n",
       "3      OD4       Jackson  Fruits & Veggies  Fresh Vegetables   Dharmapuri   \n",
       "4      OD5       Ridhesh       Food Grains   Organic Staples         Ooty   \n",
       "5      OD6        Adavan       Food Grains   Organic Staples   Dharmapuri   \n",
       "\n",
       "  order_date region  sale_price  discount   profit  year  month  \\\n",
       "1 2017-11-08  South         749    0.1800 149.8000  2017     11   \n",
       "2 2017-06-12   West        2360    0.2100 165.2000  2017      6   \n",
       "3 2016-10-11  South         896    0.2500  89.6000  2016     10   \n",
       "4 2016-10-11  South        2355    0.2600 918.4500  2016     10   \n",
       "5 2015-06-09   West        2305    0.2600 322.7000  2015      6   \n",
       "\n",
       "   original_price  discount_amount  \n",
       "1        913.4146         164.4146  \n",
       "2       2987.3418         627.3418  \n",
       "3       1194.6667         298.6667  \n",
       "4       3182.4324         827.4324  \n",
       "5       3114.8649         809.8649  "
      ]
     },
     "execution_count": 16,
     "metadata": {},
     "output_type": "execute_result"
    }
   ],
   "source": [
    "sgs['original_price'] = sgs['sale_price']/(1- sgs['discount'])\n",
    "sgs['discount_amount'] = sgs['original_price'] - sgs['sale_price']\n",
    "sgs.head()"
   ]
  },
  {
   "cell_type": "markdown",
   "id": "ae21751f-f109-4074-a8a8-22c28e8b5029",
   "metadata": {},
   "source": [
    "# Margin Analysis -  by order category"
   ]
  },
  {
   "cell_type": "markdown",
   "id": "d859e8d9",
   "metadata": {},
   "source": [
    "Ideas for metrics of investigation\n",
    "1. Over time - is the performance consistent or had a sudden spike\n",
    "2. By region ?\n",
    "\n",
    "Hypothesis testing\n",
    "1. Any difference in sales distribution between regions for certain sales product, chi_square? anova?\n",
    "2. Does a good/poor performing item perform better in a specific region/city?"
   ]
  },
  {
   "cell_type": "markdown",
   "id": "a28a0ea6-d93d-42c8-8deb-256acfef6013",
   "metadata": {},
   "source": [
    "The first analysis that I would like to perform is an analysis of the margin of each category."
   ]
  },
  {
   "cell_type": "code",
   "execution_count": 17,
   "id": "aac85379-3716-42c7-ab4a-0683dcd210cb",
   "metadata": {},
   "outputs": [
    {
     "data": {
      "text/html": [
       "<div>\n",
       "<style scoped>\n",
       "    .dataframe tbody tr th:only-of-type {\n",
       "        vertical-align: middle;\n",
       "    }\n",
       "\n",
       "    .dataframe tbody tr th {\n",
       "        vertical-align: top;\n",
       "    }\n",
       "\n",
       "    .dataframe thead th {\n",
       "        text-align: right;\n",
       "    }\n",
       "</style>\n",
       "<table border=\"1\" class=\"dataframe\">\n",
       "  <thead>\n",
       "    <tr style=\"text-align: right;\">\n",
       "      <th></th>\n",
       "      <th>sale_count</th>\n",
       "      <th>sale_total</th>\n",
       "      <th>profit_total</th>\n",
       "      <th>margin</th>\n",
       "      <th>profit_per_order</th>\n",
       "    </tr>\n",
       "    <tr>\n",
       "      <th>category</th>\n",
       "      <th></th>\n",
       "      <th></th>\n",
       "      <th></th>\n",
       "      <th></th>\n",
       "      <th></th>\n",
       "    </tr>\n",
       "  </thead>\n",
       "  <tbody>\n",
       "    <tr>\n",
       "      <th>Bakery</th>\n",
       "      <td>1413</td>\n",
       "      <td>2112281</td>\n",
       "      <td>528521.0600</td>\n",
       "      <td>0.2502</td>\n",
       "      <td>374.0418</td>\n",
       "    </tr>\n",
       "    <tr>\n",
       "      <th>Beverages</th>\n",
       "      <td>1400</td>\n",
       "      <td>2085313</td>\n",
       "      <td>525605.7600</td>\n",
       "      <td>0.2521</td>\n",
       "      <td>375.4327</td>\n",
       "    </tr>\n",
       "    <tr>\n",
       "      <th>Eggs, Meat &amp; Fish</th>\n",
       "      <td>1490</td>\n",
       "      <td>2267401</td>\n",
       "      <td>567357.2200</td>\n",
       "      <td>0.2502</td>\n",
       "      <td>380.7767</td>\n",
       "    </tr>\n",
       "    <tr>\n",
       "      <th>Food Grains</th>\n",
       "      <td>1398</td>\n",
       "      <td>2115272</td>\n",
       "      <td>529162.6400</td>\n",
       "      <td>0.2502</td>\n",
       "      <td>378.5140</td>\n",
       "    </tr>\n",
       "    <tr>\n",
       "      <th>Fruits &amp; Veggies</th>\n",
       "      <td>1418</td>\n",
       "      <td>2100727</td>\n",
       "      <td>530400.3800</td>\n",
       "      <td>0.2525</td>\n",
       "      <td>374.0482</td>\n",
       "    </tr>\n",
       "    <tr>\n",
       "      <th>Oil &amp; Masala</th>\n",
       "      <td>1360</td>\n",
       "      <td>2037188</td>\n",
       "      <td>497494.0100</td>\n",
       "      <td>0.2442</td>\n",
       "      <td>365.8044</td>\n",
       "    </tr>\n",
       "    <tr>\n",
       "      <th>Snacks</th>\n",
       "      <td>1514</td>\n",
       "      <td>2237546</td>\n",
       "      <td>568178.8500</td>\n",
       "      <td>0.2539</td>\n",
       "      <td>375.2833</td>\n",
       "    </tr>\n",
       "  </tbody>\n",
       "</table>\n",
       "</div>"
      ],
      "text/plain": [
       "                   sale_count  sale_total  profit_total  margin  \\\n",
       "category                                                          \n",
       "Bakery                   1413     2112281   528521.0600  0.2502   \n",
       "Beverages                1400     2085313   525605.7600  0.2521   \n",
       "Eggs, Meat & Fish        1490     2267401   567357.2200  0.2502   \n",
       "Food Grains              1398     2115272   529162.6400  0.2502   \n",
       "Fruits & Veggies         1418     2100727   530400.3800  0.2525   \n",
       "Oil & Masala             1360     2037188   497494.0100  0.2442   \n",
       "Snacks                   1514     2237546   568178.8500  0.2539   \n",
       "\n",
       "                   profit_per_order  \n",
       "category                             \n",
       "Bakery                     374.0418  \n",
       "Beverages                  375.4327  \n",
       "Eggs, Meat & Fish          380.7767  \n",
       "Food Grains                378.5140  \n",
       "Fruits & Veggies           374.0482  \n",
       "Oil & Masala               365.8044  \n",
       "Snacks                     375.2833  "
      ]
     },
     "execution_count": 17,
     "metadata": {},
     "output_type": "execute_result"
    }
   ],
   "source": [
    "sgs_groupedby_category = sgs.groupby('category')[['sale_price','profit']].agg(sale_count = pd.NamedAgg(column='sale_price', aggfunc='count'),\n",
    "                                                                        sale_total=pd.NamedAgg(column=\"sale_price\", aggfunc=\"sum\"),\n",
    "                                                                        profit_total=pd.NamedAgg(column=\"profit\", aggfunc=\"sum\"))\n",
    "\n",
    "sgs_groupedby_category['margin'] = sgs_groupedby_category['profit_total']/sgs_groupedby_category['sale_total']\n",
    "sgs_groupedby_category['profit_per_order'] = sgs_groupedby_category['profit_total']/sgs_groupedby_category['sale_count']\n",
    "sgs_groupedby_category"
   ]
  },
  {
   "cell_type": "markdown",
   "id": "131ffc77-69b7-4e4d-ac58-0b31e8522736",
   "metadata": {},
   "source": [
    "As can be seen from the summarized data, the data is very uniform and there is but a little variance in all of the columns. We can check the standard deviation to verify this."
   ]
  },
  {
   "cell_type": "code",
   "execution_count": 18,
   "id": "bc9c83e6-3144-40d8-9f4a-af0e30863741",
   "metadata": {},
   "outputs": [
    {
     "data": {
      "text/html": [
       "<div>\n",
       "<style scoped>\n",
       "    .dataframe tbody tr th:only-of-type {\n",
       "        vertical-align: middle;\n",
       "    }\n",
       "\n",
       "    .dataframe tbody tr th {\n",
       "        vertical-align: top;\n",
       "    }\n",
       "\n",
       "    .dataframe thead th {\n",
       "        text-align: right;\n",
       "    }\n",
       "</style>\n",
       "<table border=\"1\" class=\"dataframe\">\n",
       "  <thead>\n",
       "    <tr style=\"text-align: right;\">\n",
       "      <th></th>\n",
       "      <th>sale_count</th>\n",
       "      <th>sale_total</th>\n",
       "      <th>profit_total</th>\n",
       "      <th>margin</th>\n",
       "      <th>profit_per_order</th>\n",
       "    </tr>\n",
       "  </thead>\n",
       "  <tbody>\n",
       "    <tr>\n",
       "      <th>count</th>\n",
       "      <td>7.0000</td>\n",
       "      <td>7.0000</td>\n",
       "      <td>7.0000</td>\n",
       "      <td>7.0000</td>\n",
       "      <td>7.0000</td>\n",
       "    </tr>\n",
       "    <tr>\n",
       "      <th>mean</th>\n",
       "      <td>1427.5714</td>\n",
       "      <td>2136532.5714</td>\n",
       "      <td>535245.7029</td>\n",
       "      <td>0.2505</td>\n",
       "      <td>374.8430</td>\n",
       "    </tr>\n",
       "    <tr>\n",
       "      <th>std</th>\n",
       "      <td>54.5767</td>\n",
       "      <td>83810.5366</td>\n",
       "      <td>24965.1829</td>\n",
       "      <td>0.0031</td>\n",
       "      <td>4.6939</td>\n",
       "    </tr>\n",
       "    <tr>\n",
       "      <th>min</th>\n",
       "      <td>1360.0000</td>\n",
       "      <td>2037188.0000</td>\n",
       "      <td>497494.0100</td>\n",
       "      <td>0.2442</td>\n",
       "      <td>365.8044</td>\n",
       "    </tr>\n",
       "    <tr>\n",
       "      <th>25%</th>\n",
       "      <td>1399.0000</td>\n",
       "      <td>2093020.0000</td>\n",
       "      <td>527063.4100</td>\n",
       "      <td>0.2502</td>\n",
       "      <td>374.0450</td>\n",
       "    </tr>\n",
       "    <tr>\n",
       "      <th>50%</th>\n",
       "      <td>1413.0000</td>\n",
       "      <td>2112281.0000</td>\n",
       "      <td>529162.6400</td>\n",
       "      <td>0.2502</td>\n",
       "      <td>375.2833</td>\n",
       "    </tr>\n",
       "    <tr>\n",
       "      <th>75%</th>\n",
       "      <td>1454.0000</td>\n",
       "      <td>2176409.0000</td>\n",
       "      <td>548878.8000</td>\n",
       "      <td>0.2523</td>\n",
       "      <td>376.9734</td>\n",
       "    </tr>\n",
       "    <tr>\n",
       "      <th>max</th>\n",
       "      <td>1514.0000</td>\n",
       "      <td>2267401.0000</td>\n",
       "      <td>568178.8500</td>\n",
       "      <td>0.2539</td>\n",
       "      <td>380.7767</td>\n",
       "    </tr>\n",
       "  </tbody>\n",
       "</table>\n",
       "</div>"
      ],
      "text/plain": [
       "       sale_count   sale_total  profit_total  margin  profit_per_order\n",
       "count      7.0000       7.0000        7.0000  7.0000            7.0000\n",
       "mean    1427.5714 2136532.5714   535245.7029  0.2505          374.8430\n",
       "std       54.5767   83810.5366    24965.1829  0.0031            4.6939\n",
       "min     1360.0000 2037188.0000   497494.0100  0.2442          365.8044\n",
       "25%     1399.0000 2093020.0000   527063.4100  0.2502          374.0450\n",
       "50%     1413.0000 2112281.0000   529162.6400  0.2502          375.2833\n",
       "75%     1454.0000 2176409.0000   548878.8000  0.2523          376.9734\n",
       "max     1514.0000 2267401.0000   568178.8500  0.2539          380.7767"
      ]
     },
     "execution_count": 18,
     "metadata": {},
     "output_type": "execute_result"
    }
   ],
   "source": [
    "sgs_groupedby_category.describe()"
   ]
  },
  {
   "cell_type": "code",
   "execution_count": 19,
   "id": "2290ac20-1f05-47bc-a84a-a82284b9c0db",
   "metadata": {},
   "outputs": [
    {
     "data": {
      "text/plain": [
       "sale_count         3.8230\n",
       "sale_total         3.9227\n",
       "profit_total       4.6642\n",
       "margin             1.2411\n",
       "profit_per_order   1.2522\n",
       "dtype: float64"
      ]
     },
     "execution_count": 19,
     "metadata": {},
     "output_type": "execute_result"
    }
   ],
   "source": [
    "sgs_groupedby_category.std()/sgs_groupedby_category.mean()*100"
   ]
  },
  {
   "cell_type": "markdown",
   "id": "ee462cc7-3e0b-4892-b8d2-ffec557c9020",
   "metadata": {},
   "source": [
    "As seen from above, the standard deviation for each category is relatively small(<5%) within it's own category. Hence, the analysis extended to look at the sub categories instead of looking only at the main category."
   ]
  },
  {
   "cell_type": "code",
   "execution_count": 20,
   "id": "ccf184e1-0884-4fe6-aada-f047dd753cf0",
   "metadata": {},
   "outputs": [
    {
     "data": {
      "text/html": [
       "<div>\n",
       "<style scoped>\n",
       "    .dataframe tbody tr th:only-of-type {\n",
       "        vertical-align: middle;\n",
       "    }\n",
       "\n",
       "    .dataframe tbody tr th {\n",
       "        vertical-align: top;\n",
       "    }\n",
       "\n",
       "    .dataframe thead th {\n",
       "        text-align: right;\n",
       "    }\n",
       "</style>\n",
       "<table border=\"1\" class=\"dataframe\">\n",
       "  <thead>\n",
       "    <tr style=\"text-align: right;\">\n",
       "      <th></th>\n",
       "      <th>category</th>\n",
       "      <th>sub_category</th>\n",
       "      <th>sale_count</th>\n",
       "      <th>sale_total</th>\n",
       "      <th>profit_total</th>\n",
       "      <th>margin</th>\n",
       "      <th>profit_per_order</th>\n",
       "    </tr>\n",
       "  </thead>\n",
       "  <tbody>\n",
       "    <tr>\n",
       "      <th>0</th>\n",
       "      <td>Bakery</td>\n",
       "      <td>Biscuits</td>\n",
       "      <td>459</td>\n",
       "      <td>684083</td>\n",
       "      <td>169357.6200</td>\n",
       "      <td>0.2476</td>\n",
       "      <td>368.9708</td>\n",
       "    </tr>\n",
       "    <tr>\n",
       "      <th>1</th>\n",
       "      <td>Bakery</td>\n",
       "      <td>Breads &amp; Buns</td>\n",
       "      <td>502</td>\n",
       "      <td>742586</td>\n",
       "      <td>190764.9800</td>\n",
       "      <td>0.2569</td>\n",
       "      <td>380.0099</td>\n",
       "    </tr>\n",
       "    <tr>\n",
       "      <th>2</th>\n",
       "      <td>Bakery</td>\n",
       "      <td>Cakes</td>\n",
       "      <td>452</td>\n",
       "      <td>685612</td>\n",
       "      <td>168398.4600</td>\n",
       "      <td>0.2456</td>\n",
       "      <td>372.5630</td>\n",
       "    </tr>\n",
       "    <tr>\n",
       "      <th>3</th>\n",
       "      <td>Beverages</td>\n",
       "      <td>Health Drinks</td>\n",
       "      <td>719</td>\n",
       "      <td>1051439</td>\n",
       "      <td>267469.7900</td>\n",
       "      <td>0.2544</td>\n",
       "      <td>372.0025</td>\n",
       "    </tr>\n",
       "    <tr>\n",
       "      <th>4</th>\n",
       "      <td>Beverages</td>\n",
       "      <td>Soft Drinks</td>\n",
       "      <td>681</td>\n",
       "      <td>1033874</td>\n",
       "      <td>258135.9700</td>\n",
       "      <td>0.2497</td>\n",
       "      <td>379.0543</td>\n",
       "    </tr>\n",
       "    <tr>\n",
       "      <th>5</th>\n",
       "      <td>Eggs, Meat &amp; Fish</td>\n",
       "      <td>Chicken</td>\n",
       "      <td>348</td>\n",
       "      <td>520497</td>\n",
       "      <td>124049.8900</td>\n",
       "      <td>0.2383</td>\n",
       "      <td>356.4652</td>\n",
       "    </tr>\n",
       "    <tr>\n",
       "      <th>6</th>\n",
       "      <td>Eggs, Meat &amp; Fish</td>\n",
       "      <td>Eggs</td>\n",
       "      <td>379</td>\n",
       "      <td>575156</td>\n",
       "      <td>144669.9200</td>\n",
       "      <td>0.2515</td>\n",
       "      <td>381.7148</td>\n",
       "    </tr>\n",
       "    <tr>\n",
       "      <th>7</th>\n",
       "      <td>Eggs, Meat &amp; Fish</td>\n",
       "      <td>Fish</td>\n",
       "      <td>369</td>\n",
       "      <td>560548</td>\n",
       "      <td>147248.0100</td>\n",
       "      <td>0.2627</td>\n",
       "      <td>399.0461</td>\n",
       "    </tr>\n",
       "    <tr>\n",
       "      <th>8</th>\n",
       "      <td>Eggs, Meat &amp; Fish</td>\n",
       "      <td>Mutton</td>\n",
       "      <td>394</td>\n",
       "      <td>611200</td>\n",
       "      <td>151389.4000</td>\n",
       "      <td>0.2477</td>\n",
       "      <td>384.2371</td>\n",
       "    </tr>\n",
       "    <tr>\n",
       "      <th>9</th>\n",
       "      <td>Food Grains</td>\n",
       "      <td>Atta &amp; Flour</td>\n",
       "      <td>353</td>\n",
       "      <td>534649</td>\n",
       "      <td>127861.1000</td>\n",
       "      <td>0.2391</td>\n",
       "      <td>362.2127</td>\n",
       "    </tr>\n",
       "    <tr>\n",
       "      <th>10</th>\n",
       "      <td>Food Grains</td>\n",
       "      <td>Dals &amp; Pulses</td>\n",
       "      <td>343</td>\n",
       "      <td>523371</td>\n",
       "      <td>130232.2900</td>\n",
       "      <td>0.2488</td>\n",
       "      <td>379.6860</td>\n",
       "    </tr>\n",
       "    <tr>\n",
       "      <th>11</th>\n",
       "      <td>Food Grains</td>\n",
       "      <td>Organic Staples</td>\n",
       "      <td>372</td>\n",
       "      <td>558929</td>\n",
       "      <td>144136.8900</td>\n",
       "      <td>0.2579</td>\n",
       "      <td>387.4648</td>\n",
       "    </tr>\n",
       "    <tr>\n",
       "      <th>12</th>\n",
       "      <td>Food Grains</td>\n",
       "      <td>Rice</td>\n",
       "      <td>330</td>\n",
       "      <td>498323</td>\n",
       "      <td>126932.3600</td>\n",
       "      <td>0.2547</td>\n",
       "      <td>384.6435</td>\n",
       "    </tr>\n",
       "    <tr>\n",
       "      <th>13</th>\n",
       "      <td>Fruits &amp; Veggies</td>\n",
       "      <td>Fresh Fruits</td>\n",
       "      <td>369</td>\n",
       "      <td>551212</td>\n",
       "      <td>134668.3500</td>\n",
       "      <td>0.2443</td>\n",
       "      <td>364.9549</td>\n",
       "    </tr>\n",
       "    <tr>\n",
       "      <th>14</th>\n",
       "      <td>Fruits &amp; Veggies</td>\n",
       "      <td>Fresh Vegetables</td>\n",
       "      <td>354</td>\n",
       "      <td>525842</td>\n",
       "      <td>131273.3300</td>\n",
       "      <td>0.2496</td>\n",
       "      <td>370.8286</td>\n",
       "    </tr>\n",
       "    <tr>\n",
       "      <th>15</th>\n",
       "      <td>Fruits &amp; Veggies</td>\n",
       "      <td>Organic Fruits</td>\n",
       "      <td>348</td>\n",
       "      <td>503402</td>\n",
       "      <td>130862.3300</td>\n",
       "      <td>0.2600</td>\n",
       "      <td>376.0412</td>\n",
       "    </tr>\n",
       "    <tr>\n",
       "      <th>16</th>\n",
       "      <td>Fruits &amp; Veggies</td>\n",
       "      <td>Organic Vegetables</td>\n",
       "      <td>347</td>\n",
       "      <td>520271</td>\n",
       "      <td>133596.3700</td>\n",
       "      <td>0.2568</td>\n",
       "      <td>385.0039</td>\n",
       "    </tr>\n",
       "    <tr>\n",
       "      <th>17</th>\n",
       "      <td>Oil &amp; Masala</td>\n",
       "      <td>Edible Oil &amp; Ghee</td>\n",
       "      <td>451</td>\n",
       "      <td>668086</td>\n",
       "      <td>168593.5800</td>\n",
       "      <td>0.2524</td>\n",
       "      <td>373.8217</td>\n",
       "    </tr>\n",
       "    <tr>\n",
       "      <th>18</th>\n",
       "      <td>Oil &amp; Masala</td>\n",
       "      <td>Masalas</td>\n",
       "      <td>462</td>\n",
       "      <td>696226</td>\n",
       "      <td>168597.8300</td>\n",
       "      <td>0.2422</td>\n",
       "      <td>364.9304</td>\n",
       "    </tr>\n",
       "    <tr>\n",
       "      <th>19</th>\n",
       "      <td>Oil &amp; Masala</td>\n",
       "      <td>Spices</td>\n",
       "      <td>447</td>\n",
       "      <td>672876</td>\n",
       "      <td>160302.6000</td>\n",
       "      <td>0.2382</td>\n",
       "      <td>358.6188</td>\n",
       "    </tr>\n",
       "    <tr>\n",
       "      <th>20</th>\n",
       "      <td>Snacks</td>\n",
       "      <td>Chocolates</td>\n",
       "      <td>499</td>\n",
       "      <td>733898</td>\n",
       "      <td>183849.3400</td>\n",
       "      <td>0.2505</td>\n",
       "      <td>368.4356</td>\n",
       "    </tr>\n",
       "    <tr>\n",
       "      <th>21</th>\n",
       "      <td>Snacks</td>\n",
       "      <td>Cookies</td>\n",
       "      <td>520</td>\n",
       "      <td>768213</td>\n",
       "      <td>190643.7000</td>\n",
       "      <td>0.2482</td>\n",
       "      <td>366.6225</td>\n",
       "    </tr>\n",
       "    <tr>\n",
       "      <th>22</th>\n",
       "      <td>Snacks</td>\n",
       "      <td>Noodles</td>\n",
       "      <td>495</td>\n",
       "      <td>735435</td>\n",
       "      <td>193685.8100</td>\n",
       "      <td>0.2634</td>\n",
       "      <td>391.2845</td>\n",
       "    </tr>\n",
       "  </tbody>\n",
       "</table>\n",
       "</div>"
      ],
      "text/plain": [
       "             category        sub_category  sale_count  sale_total  \\\n",
       "0              Bakery            Biscuits         459      684083   \n",
       "1              Bakery       Breads & Buns         502      742586   \n",
       "2              Bakery               Cakes         452      685612   \n",
       "3           Beverages       Health Drinks         719     1051439   \n",
       "4           Beverages         Soft Drinks         681     1033874   \n",
       "5   Eggs, Meat & Fish             Chicken         348      520497   \n",
       "6   Eggs, Meat & Fish                Eggs         379      575156   \n",
       "7   Eggs, Meat & Fish                Fish         369      560548   \n",
       "8   Eggs, Meat & Fish              Mutton         394      611200   \n",
       "9         Food Grains        Atta & Flour         353      534649   \n",
       "10        Food Grains       Dals & Pulses         343      523371   \n",
       "11        Food Grains     Organic Staples         372      558929   \n",
       "12        Food Grains                Rice         330      498323   \n",
       "13   Fruits & Veggies        Fresh Fruits         369      551212   \n",
       "14   Fruits & Veggies    Fresh Vegetables         354      525842   \n",
       "15   Fruits & Veggies      Organic Fruits         348      503402   \n",
       "16   Fruits & Veggies  Organic Vegetables         347      520271   \n",
       "17       Oil & Masala   Edible Oil & Ghee         451      668086   \n",
       "18       Oil & Masala             Masalas         462      696226   \n",
       "19       Oil & Masala              Spices         447      672876   \n",
       "20             Snacks          Chocolates         499      733898   \n",
       "21             Snacks             Cookies         520      768213   \n",
       "22             Snacks             Noodles         495      735435   \n",
       "\n",
       "    profit_total  margin  profit_per_order  \n",
       "0    169357.6200  0.2476          368.9708  \n",
       "1    190764.9800  0.2569          380.0099  \n",
       "2    168398.4600  0.2456          372.5630  \n",
       "3    267469.7900  0.2544          372.0025  \n",
       "4    258135.9700  0.2497          379.0543  \n",
       "5    124049.8900  0.2383          356.4652  \n",
       "6    144669.9200  0.2515          381.7148  \n",
       "7    147248.0100  0.2627          399.0461  \n",
       "8    151389.4000  0.2477          384.2371  \n",
       "9    127861.1000  0.2391          362.2127  \n",
       "10   130232.2900  0.2488          379.6860  \n",
       "11   144136.8900  0.2579          387.4648  \n",
       "12   126932.3600  0.2547          384.6435  \n",
       "13   134668.3500  0.2443          364.9549  \n",
       "14   131273.3300  0.2496          370.8286  \n",
       "15   130862.3300  0.2600          376.0412  \n",
       "16   133596.3700  0.2568          385.0039  \n",
       "17   168593.5800  0.2524          373.8217  \n",
       "18   168597.8300  0.2422          364.9304  \n",
       "19   160302.6000  0.2382          358.6188  \n",
       "20   183849.3400  0.2505          368.4356  \n",
       "21   190643.7000  0.2482          366.6225  \n",
       "22   193685.8100  0.2634          391.2845  "
      ]
     },
     "execution_count": 20,
     "metadata": {},
     "output_type": "execute_result"
    }
   ],
   "source": [
    "sgs_groupedby_sub_category = sgs.groupby(['category', 'sub_category'], as_index=False)[['sale_price','profit']].agg(sale_count = pd.NamedAgg(column='sale_price', aggfunc='count'),\n",
    "                                                                                       sale_total=pd.NamedAgg(column=\"sale_price\", aggfunc=\"sum\"),\n",
    "                                                                                       profit_total=pd.NamedAgg(column=\"profit\", aggfunc=\"sum\"))\n",
    "\n",
    "sgs_groupedby_sub_category['margin'] = sgs_groupedby_sub_category['profit_total']/sgs_groupedby_sub_category['sale_total']\n",
    "sgs_groupedby_sub_category['profit_per_order'] = sgs_groupedby_sub_category['profit_total']/sgs_groupedby_sub_category['sale_count']\n",
    "\n",
    "sgs_groupedby_sub_category"
   ]
  },
  {
   "cell_type": "code",
   "execution_count": 21,
   "id": "a2575567-24a3-45dc-bc9e-b9d4f3ae20d8",
   "metadata": {},
   "outputs": [
    {
     "data": {
      "text/html": [
       "<div>\n",
       "<style scoped>\n",
       "    .dataframe tbody tr th:only-of-type {\n",
       "        vertical-align: middle;\n",
       "    }\n",
       "\n",
       "    .dataframe tbody tr th {\n",
       "        vertical-align: top;\n",
       "    }\n",
       "\n",
       "    .dataframe thead th {\n",
       "        text-align: right;\n",
       "    }\n",
       "</style>\n",
       "<table border=\"1\" class=\"dataframe\">\n",
       "  <thead>\n",
       "    <tr style=\"text-align: right;\">\n",
       "      <th></th>\n",
       "      <th>sale_count</th>\n",
       "      <th>sale_total</th>\n",
       "      <th>profit_total</th>\n",
       "      <th>margin</th>\n",
       "      <th>profit_per_order</th>\n",
       "    </tr>\n",
       "  </thead>\n",
       "  <tbody>\n",
       "    <tr>\n",
       "      <th>count</th>\n",
       "      <td>23.0000</td>\n",
       "      <td>23.0000</td>\n",
       "      <td>23.0000</td>\n",
       "      <td>23.0000</td>\n",
       "      <td>23.0000</td>\n",
       "    </tr>\n",
       "    <tr>\n",
       "      <th>mean</th>\n",
       "      <td>434.4783</td>\n",
       "      <td>650249.0435</td>\n",
       "      <td>162900.8661</td>\n",
       "      <td>0.2505</td>\n",
       "      <td>375.1571</td>\n",
       "    </tr>\n",
       "    <tr>\n",
       "      <th>std</th>\n",
       "      <td>103.5119</td>\n",
       "      <td>151781.5300</td>\n",
       "      <td>38684.7789</td>\n",
       "      <td>0.0073</td>\n",
       "      <td>10.7604</td>\n",
       "    </tr>\n",
       "    <tr>\n",
       "      <th>min</th>\n",
       "      <td>330.0000</td>\n",
       "      <td>498323.0000</td>\n",
       "      <td>124049.8900</td>\n",
       "      <td>0.2382</td>\n",
       "      <td>356.4652</td>\n",
       "    </tr>\n",
       "    <tr>\n",
       "      <th>25%</th>\n",
       "      <td>353.5000</td>\n",
       "      <td>530245.5000</td>\n",
       "      <td>132434.8500</td>\n",
       "      <td>0.2466</td>\n",
       "      <td>367.5290</td>\n",
       "    </tr>\n",
       "    <tr>\n",
       "      <th>50%</th>\n",
       "      <td>394.0000</td>\n",
       "      <td>611200.0000</td>\n",
       "      <td>151389.4000</td>\n",
       "      <td>0.2497</td>\n",
       "      <td>373.8217</td>\n",
       "    </tr>\n",
       "    <tr>\n",
       "      <th>75%</th>\n",
       "      <td>478.5000</td>\n",
       "      <td>715062.0000</td>\n",
       "      <td>176603.4800</td>\n",
       "      <td>0.2558</td>\n",
       "      <td>382.9759</td>\n",
       "    </tr>\n",
       "    <tr>\n",
       "      <th>max</th>\n",
       "      <td>719.0000</td>\n",
       "      <td>1051439.0000</td>\n",
       "      <td>267469.7900</td>\n",
       "      <td>0.2634</td>\n",
       "      <td>399.0461</td>\n",
       "    </tr>\n",
       "  </tbody>\n",
       "</table>\n",
       "</div>"
      ],
      "text/plain": [
       "       sale_count   sale_total  profit_total  margin  profit_per_order\n",
       "count     23.0000      23.0000       23.0000 23.0000           23.0000\n",
       "mean     434.4783  650249.0435   162900.8661  0.2505          375.1571\n",
       "std      103.5119  151781.5300    38684.7789  0.0073           10.7604\n",
       "min      330.0000  498323.0000   124049.8900  0.2382          356.4652\n",
       "25%      353.5000  530245.5000   132434.8500  0.2466          367.5290\n",
       "50%      394.0000  611200.0000   151389.4000  0.2497          373.8217\n",
       "75%      478.5000  715062.0000   176603.4800  0.2558          382.9759\n",
       "max      719.0000 1051439.0000   267469.7900  0.2634          399.0461"
      ]
     },
     "execution_count": 21,
     "metadata": {},
     "output_type": "execute_result"
    }
   ],
   "source": [
    "sgs_groupedby_sub_category.describe()"
   ]
  },
  {
   "cell_type": "code",
   "execution_count": 22,
   "id": "da0f6412-dd6b-423c-bd7b-de7ac527fe2b",
   "metadata": {},
   "outputs": [
    {
     "data": {
      "text/plain": [
       "sale_count         23.8244\n",
       "sale_total         23.3421\n",
       "profit_total       23.7474\n",
       "margin              2.9001\n",
       "profit_per_order    2.8682\n",
       "dtype: float64"
      ]
     },
     "execution_count": 22,
     "metadata": {},
     "output_type": "execute_result"
    }
   ],
   "source": [
    "sgs_groupedby_sub_category.std(numeric_only=True)/sgs_groupedby_sub_category.mean(numeric_only=True)*100"
   ]
  },
  {
   "cell_type": "markdown",
   "id": "94c78961-d074-48d5-8d27-b9afa43120a5",
   "metadata": {},
   "source": [
    "After grouping the data by sub category, it seems that the data seems to have a bit more variation as compared to just grouping by the main categories. There are a few points of interest to explore here with regards to the margin,which is\n",
    "1. The sub-categories with the max sale count, total profit and profit per order\n",
    "2. The sub-categories with the min amount for the same columns above\n",
    "\n",
    "\n",
    "Let's start at the max end of the spectrum. \n",
    "\n",
    "The logic that is used for extracting the max and min data is similar, so a function is prepared to make multiple calls easier."
   ]
  },
  {
   "cell_type": "code",
   "execution_count": 23,
   "id": "2d741be5-4160-4d9e-9bf4-7d4a04960594",
   "metadata": {},
   "outputs": [],
   "source": [
    "def get_extreme_category(df, target_col, get_max = True):\n",
    "    if get_max:\n",
    "        idx = df[target_col].idxmax()\n",
    "        description = 'highest'\n",
    "    else:\n",
    "        idx = df[target_col].idxmin()\n",
    "        description = 'lowest'\n",
    "    sub_category = df.loc[idx, 'sub_category']\n",
    "    main_category = df.loc[idx, 'category']\n",
    "    print(f'The sub category with the {description} {target_col} is {sub_category} from {main_category} main category')\n",
    "\n",
    "interest_cols =  ['sale_count', 'profit_total', 'profit_per_order']"
   ]
  },
  {
   "cell_type": "code",
   "execution_count": 50,
   "id": "c7f6c91a-f5e5-4269-ac7b-6f41fe2c91c9",
   "metadata": {},
   "outputs": [
    {
     "name": "stdout",
     "output_type": "stream",
     "text": [
      "The sub category with the highest sale_count is Health Drinks from Beverages main category\n",
      "The sub category with the highest profit_total is Health Drinks from Beverages main category\n",
      "The sub category with the highest profit_per_order is Fish from Eggs, Meat & Fish main category\n",
      "\n",
      "The sub category with the lowest sale_count is Rice from Food Grains main category\n",
      "The sub category with the lowest profit_total is Chicken from Eggs, Meat & Fish main category\n",
      "The sub category with the lowest profit_per_order is Chicken from Eggs, Meat & Fish main category\n"
     ]
    }
   ],
   "source": [
    "# Getting higher end of categories\n",
    "for col in interest_cols:\n",
    "    get_extreme_category(sgs_groupedby_sub_category, col)\n",
    "    \n",
    "print(\"\")\n",
    "\n",
    "# Getting lower end of categories\n",
    "for col in interest_cols:\n",
    "    get_extreme_category(sgs_groupedby_sub_category, col, get_max=False)"
   ]
  },
  {
   "cell_type": "markdown",
   "id": "980cc07f-8f69-45a2-ad21-804ee3b3ba82",
   "metadata": {},
   "source": [
    "From the results, the highest no. of sales and total profit is from the \"Health Drinks\" sub category, and highest profit per order is from the \"Fish\" sub category.\n",
    "\n",
    "On the other hand, the \"Rice\" sub category has the lowest no. of sales, and \"Chicken\" has the lowest total profit and profit per order.\n",
    "\n",
    "Let's take a closer look at these 4 sub categories."
   ]
  },
  {
   "cell_type": "code",
   "execution_count": 55,
   "id": "3886a218-1d2d-42ae-a303-d97b7aabfbec",
   "metadata": {},
   "outputs": [],
   "source": [
    "sgs_focus = sgs[sgs.sub_category.isin(['Health Drinks','Fish','Rice','Chicken'])]\n",
    "sgs_focus_summary = sgs_groupedby_sub_category[sgs_groupedby_sub_category.sub_category.isin(['Health Drinks','Fish','Rice','Chicken'])]"
   ]
  },
  {
   "cell_type": "markdown",
   "id": "3e8cec0f-a6e5-442a-94f2-dd3b83e065f8",
   "metadata": {},
   "source": [
    "Let's first take a look at the margins of these products."
   ]
  },
  {
   "cell_type": "code",
   "execution_count": 56,
   "id": "abc75a16-462e-4e83-b066-2ae4eef08b8d",
   "metadata": {},
   "outputs": [
    {
     "data": {
      "text/html": [
       "<div>\n",
       "<style scoped>\n",
       "    .dataframe tbody tr th:only-of-type {\n",
       "        vertical-align: middle;\n",
       "    }\n",
       "\n",
       "    .dataframe tbody tr th {\n",
       "        vertical-align: top;\n",
       "    }\n",
       "\n",
       "    .dataframe thead th {\n",
       "        text-align: right;\n",
       "    }\n",
       "</style>\n",
       "<table border=\"1\" class=\"dataframe\">\n",
       "  <thead>\n",
       "    <tr style=\"text-align: right;\">\n",
       "      <th></th>\n",
       "      <th>category</th>\n",
       "      <th>sub_category</th>\n",
       "      <th>sale_count</th>\n",
       "      <th>sale_total</th>\n",
       "      <th>profit_total</th>\n",
       "      <th>margin</th>\n",
       "      <th>profit_per_order</th>\n",
       "    </tr>\n",
       "  </thead>\n",
       "  <tbody>\n",
       "    <tr>\n",
       "      <th>3</th>\n",
       "      <td>Beverages</td>\n",
       "      <td>Health Drinks</td>\n",
       "      <td>719</td>\n",
       "      <td>1051439</td>\n",
       "      <td>267469.7900</td>\n",
       "      <td>0.2544</td>\n",
       "      <td>372.0025</td>\n",
       "    </tr>\n",
       "    <tr>\n",
       "      <th>5</th>\n",
       "      <td>Eggs, Meat &amp; Fish</td>\n",
       "      <td>Chicken</td>\n",
       "      <td>348</td>\n",
       "      <td>520497</td>\n",
       "      <td>124049.8900</td>\n",
       "      <td>0.2383</td>\n",
       "      <td>356.4652</td>\n",
       "    </tr>\n",
       "    <tr>\n",
       "      <th>7</th>\n",
       "      <td>Eggs, Meat &amp; Fish</td>\n",
       "      <td>Fish</td>\n",
       "      <td>369</td>\n",
       "      <td>560548</td>\n",
       "      <td>147248.0100</td>\n",
       "      <td>0.2627</td>\n",
       "      <td>399.0461</td>\n",
       "    </tr>\n",
       "    <tr>\n",
       "      <th>12</th>\n",
       "      <td>Food Grains</td>\n",
       "      <td>Rice</td>\n",
       "      <td>330</td>\n",
       "      <td>498323</td>\n",
       "      <td>126932.3600</td>\n",
       "      <td>0.2547</td>\n",
       "      <td>384.6435</td>\n",
       "    </tr>\n",
       "  </tbody>\n",
       "</table>\n",
       "</div>"
      ],
      "text/plain": [
       "             category   sub_category  sale_count  sale_total  profit_total  \\\n",
       "3           Beverages  Health Drinks         719     1051439   267469.7900   \n",
       "5   Eggs, Meat & Fish        Chicken         348      520497   124049.8900   \n",
       "7   Eggs, Meat & Fish           Fish         369      560548   147248.0100   \n",
       "12        Food Grains           Rice         330      498323   126932.3600   \n",
       "\n",
       "    margin  profit_per_order  \n",
       "3   0.2544          372.0025  \n",
       "5   0.2383          356.4652  \n",
       "7   0.2627          399.0461  \n",
       "12  0.2547          384.6435  "
      ]
     },
     "execution_count": 56,
     "metadata": {},
     "output_type": "execute_result"
    }
   ],
   "source": [
    "sgs_focus_summary"
   ]
  },
  {
   "cell_type": "code",
   "execution_count": 100,
   "id": "29e36fae-18a8-4a5c-b9d5-798f3ad6d03c",
   "metadata": {},
   "outputs": [
    {
     "name": "stdout",
     "output_type": "stream",
     "text": [
      "The average no of sales per sub category is 434\n"
     ]
    }
   ],
   "source": [
    "print(f\"The average no of sales per sub category is {int(sgs.sub_category.value_counts().mean())}\")"
   ]
  },
  {
   "cell_type": "markdown",
   "id": "7928f8fb-657c-433f-a883-e59dae6f6179",
   "metadata": {},
   "source": [
    "From this summarized table, it can be seen that although the Health Drinks category has the highest sale count, and also having a relatively high profit per for order. Both the sales amount and high profit per order contributed to the health drinks category having the highest total profit out of all products.\n",
    "\n",
    "Other than that, looking at the Fish sub category, although it has lower than average(434 as shown above) no of sales, it is able to have higher total profit thanks to having the highest profit per order at almost 400.\n",
    "\n",
    "As for the Rice sub category, the profit per order is actually not low, at 384 per order, however there is a low amount of sales and hence it has lower overall profit. \n",
    "\n",
    "Lastly, looking at the chiken sub category, it suffers from both lower no of sales and profit per order, hence it is not surprising that it has lower overall profit as well."
   ]
  },
  {
   "cell_type": "markdown",
   "id": "74f14ccb-f31f-45e5-bd54-547bab922098",
   "metadata": {},
   "source": [
    "## Hypothesis Testing\n",
    "\n",
    "Although it can be seen that the filtered categories do perform better/worse in certain ways, it is hard to determine if it is by random chance. A hypothesis testing can be carried out to verify this.\n",
    "\n",
    "Let's test the if the Health Drinks category do actually perform better than the other sub categories.\n",
    "\n",
    "Assume:\n",
    "1.  Significance level, alpha = 0.05\n",
    "\n",
    "H0 = The means of the profit for Health Drinks and Non-Health Drinks are the same\n",
    "\n",
    "H1 = The means of the profit for Health Drinks is larger than Non-Health Drinks\n",
    "\n",
    "We will use statsmodel to help calculate the p-value for a right-tailed test, as we are concerned if the Health Drink profit mean is larger than the other mean."
   ]
  },
  {
   "cell_type": "code",
   "execution_count": 115,
   "id": "e6db6c5b-7190-47be-9182-87758404936a",
   "metadata": {},
   "outputs": [],
   "source": [
    "health_drink_profit = sgs[sgs.sub_category.isin(['Health Drinks'])]['profit']\n",
    "non_health_drink_profit = sgs[~sgs.sub_category.isin(['Health Drinks'])]['profit']"
   ]
  },
  {
   "cell_type": "code",
   "execution_count": 130,
   "id": "72575e5d-e3f4-4f06-8898-bb69a734b23e",
   "metadata": {},
   "outputs": [
    {
     "name": "stdout",
     "output_type": "stream",
     "text": [
      "-0.3400994381020254 0.6331091775437484\n"
     ]
    }
   ],
   "source": [
    "z_score, p_value =  ztest(health_drink_profit, non_health_drink_profit, alternative='larger')\n",
    "print(z_score, p_value)"
   ]
  },
  {
   "cell_type": "markdown",
   "id": "04d7c40c-8b08-46cc-b857-cff9bcc70eae",
   "metadata": {},
   "source": [
    "From the calculation, the p-value is very much larger than alpha=0.05. Hence, we fail to reject the null hypothesis and this means that the Health Drink category is performing well by chance.\n",
    "\n",
    "Let's repeat this for the other 3 categories as well."
   ]
  },
  {
   "cell_type": "code",
   "execution_count": 135,
   "id": "3af587f0-3fe4-4b5b-a84a-367daa420793",
   "metadata": {},
   "outputs": [],
   "source": [
    "def z_score_testing(sub_category, parameter='profit', test_side='two-sided', alpha=0.05):\n",
    "    df_test = sgs[sgs.sub_category.isin([sub_category])][parameter]\n",
    "    df_other = sgs[~sgs.sub_category.isin([sub_category])][parameter]\n",
    "    z_score, p_value = ztest(df_test, df_other, alternative=test_side)\n",
    "    print(f\"For {sub_category} sub category, the z-score is {z_score}, and the p-value is {p_value}.\")\n",
    "    if p_value > alpha:\n",
    "        print(f\"Because the p-value is larger than alpha={alpha}, we fail to reject the null hypothesis.\")\n",
    "    else:\n",
    "        print(f\"The p-value is smaller than alpha={alpha}, we reject the null hypothesis.\")"
   ]
  },
  {
   "cell_type": "code",
   "execution_count": 138,
   "id": "f6c03ce2-b976-4538-bd12-fa351fab2ef2",
   "metadata": {},
   "outputs": [
    {
     "name": "stdout",
     "output_type": "stream",
     "text": [
      "For Fish sub category, the z-score is 1.967258373826087, and the p-value is 0.02457671567888886.\n",
      "The p-value is smaller than alpha=0.05, we reject the null hypothesis.\n",
      "\n",
      "For Rice sub category, the z-score is 0.7474905128954339, and the p-value is 0.7726162363106105.\n",
      "Because the p-value is larger than alpha=0.05, we fail to reject the null hypothesis.\n",
      "\n",
      "For Chicken sub category, the z-score is -1.461669043979401, and the p-value is 0.07191596204347718.\n",
      "Because the p-value is larger than alpha=0.05, we fail to reject the null hypothesis.\n"
     ]
    }
   ],
   "source": [
    "z_score_testing('Fish',test_side='larger')\n",
    "print(\"\")\n",
    "z_score_testing('Rice',test_side='smaller')\n",
    "print(\"\")\n",
    "z_score_testing('Chicken', test_side='smaller')"
   ]
  },
  {
   "cell_type": "markdown",
   "id": "a966a776-cd05-400e-a81c-38496d2afda4",
   "metadata": {},
   "source": [
    "From our results, it can be seen that only for the Fish sub category there is established statistical significance. This means that the Fish category is performing well not because of chance.\n",
    "\n",
    "Other than that the Rice and Chicken sub category are performing worse by chance, as they both have higher than 0.05 p-value."
   ]
  },
  {
   "cell_type": "markdown",
   "id": "b8712c11-2fda-46c3-9b31-64d480b70b51",
   "metadata": {},
   "source": [
    "---\n",
    "24th June 2022"
   ]
  },
  {
   "cell_type": "code",
   "execution_count": 84,
   "id": "106c25ce-792c-47ae-aba4-839a5617a64c",
   "metadata": {},
   "outputs": [],
   "source": [
    "sgs_focus_long = pd.melt(sgs_focus,id_vars='sub_category',value_vars=['sale_price','discount_amount','profit'])"
   ]
  },
  {
   "cell_type": "code",
   "execution_count": null,
   "id": "31d21084-bd71-4adf-a028-30b9f20529c1",
   "metadata": {},
   "outputs": [
    {
     "data": {
      "image/png": "[encoded data removed]",
      "text/plain": [
       "<Figure size 1080x576 with 1 Axes>"
      ]
     },
     "metadata": {},
     "output_type": "display_data"
    }
   ],
   "source": [
    "plt.figure(figsize=(15,8))\n",
    "\n",
    "sns.boxplot(data=sgs_focus_long, x='sub_category', y='value', hue='variable', order=['Health Drinks', 'Fish', 'Rice', 'Chicken'])\n",
    "plt.xlabel('Sub Category')\n",
    "plt.ylabel('Price')\n",
    "\n",
    "plt.show()"
   ]
  },
  {
   "cell_type": "code",
   "execution_count": 77,
   "id": "e403960b-01b9-4786-9db2-9bc2bc3563a0",
   "metadata": {},
   "outputs": [
    {
     "data": {
      "text/plain": [
       "0.4191015572719925"
      ]
     },
     "execution_count": 77,
     "metadata": {},
     "output_type": "execute_result"
    }
   ],
   "source": [
    "sgs_focus['discount_amount'].corr(sgs_focus['profit'])"
   ]
  }
 ],
 "metadata": {
  "kernelspec": {
   "display_name": "Python 3 (ipykernel)",
   "language": "python",
   "name": "python3"
  },
  "language_info": {
   "codemirror_mode": {
    "name": "ipython",
    "version": 3
   },
   "file_extension": ".py",
   "mimetype": "text/x-python",
   "name": "python",
   "nbconvert_exporter": "python",
   "pygments_lexer": "ipython3",
   "version": "3.8.13"
  },
  "toc-showcode": false,
  "toc-showmarkdowntxt": false
 },
 "nbformat": 4,
 "nbformat_minor": 5
}
