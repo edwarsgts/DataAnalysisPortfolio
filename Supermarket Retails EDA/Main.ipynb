{
 "cells": [
  {
   "cell_type": "markdown",
   "id": "d03be4b3-fc9a-43c7-ae0a-753bf56af684",
   "metadata": {},
   "source": [
    "# Project Setup"
   ]
  },
  {
   "cell_type": "code",
   "execution_count": 1,
   "id": "d448d7bf",
   "metadata": {},
   "outputs": [],
   "source": [
    "import pandas as pd\n",
    "import numpy as np\n",
    "import matplotlib.pyplot as plt\n",
    "import seaborn as sns\n",
    "\n",
    "filepath = '/Users/edwardgoh/Desktop/DA_projects/Portfolio/Data/supermart_grocery_sales/Supermart Grocery Sales - Retail Analytics Dataset.csv'"
   ]
  },
  {
   "cell_type": "markdown",
   "id": "daa0a50a-a851-455a-b000-567226bc062b",
   "metadata": {},
   "source": [
    "# Data pre-processing\n",
    "\n",
    "## Loading Data"
   ]
  },
  {
   "cell_type": "code",
   "execution_count": 2,
   "id": "5b4f6cfe",
   "metadata": {},
   "outputs": [
    {
     "name": "stdout",
     "output_type": "stream",
     "text": [
      "(9994, 11)\n"
     ]
    },
    {
     "data": {
      "text/html": [
       "<div>\n",
       "<style scoped>\n",
       "    .dataframe tbody tr th:only-of-type {\n",
       "        vertical-align: middle;\n",
       "    }\n",
       "\n",
       "    .dataframe tbody tr th {\n",
       "        vertical-align: top;\n",
       "    }\n",
       "\n",
       "    .dataframe thead th {\n",
       "        text-align: right;\n",
       "    }\n",
       "</style>\n",
       "<table border=\"1\" class=\"dataframe\">\n",
       "  <thead>\n",
       "    <tr style=\"text-align: right;\">\n",
       "      <th></th>\n",
       "      <th>Order ID</th>\n",
       "      <th>Customer Name</th>\n",
       "      <th>Category</th>\n",
       "      <th>Sub Category</th>\n",
       "      <th>City</th>\n",
       "      <th>Order Date</th>\n",
       "      <th>Region</th>\n",
       "      <th>Sales</th>\n",
       "      <th>Discount</th>\n",
       "      <th>Profit</th>\n",
       "      <th>State</th>\n",
       "    </tr>\n",
       "  </thead>\n",
       "  <tbody>\n",
       "    <tr>\n",
       "      <th>0</th>\n",
       "      <td>OD1</td>\n",
       "      <td>Harish</td>\n",
       "      <td>Oil &amp; Masala</td>\n",
       "      <td>Masalas</td>\n",
       "      <td>Vellore</td>\n",
       "      <td>11-08-2017</td>\n",
       "      <td>North</td>\n",
       "      <td>1254</td>\n",
       "      <td>0.12</td>\n",
       "      <td>401.28</td>\n",
       "      <td>Tamil Nadu</td>\n",
       "    </tr>\n",
       "    <tr>\n",
       "      <th>1</th>\n",
       "      <td>OD2</td>\n",
       "      <td>Sudha</td>\n",
       "      <td>Beverages</td>\n",
       "      <td>Health Drinks</td>\n",
       "      <td>Krishnagiri</td>\n",
       "      <td>11-08-2017</td>\n",
       "      <td>South</td>\n",
       "      <td>749</td>\n",
       "      <td>0.18</td>\n",
       "      <td>149.80</td>\n",
       "      <td>Tamil Nadu</td>\n",
       "    </tr>\n",
       "    <tr>\n",
       "      <th>2</th>\n",
       "      <td>OD3</td>\n",
       "      <td>Hussain</td>\n",
       "      <td>Food Grains</td>\n",
       "      <td>Atta &amp; Flour</td>\n",
       "      <td>Perambalur</td>\n",
       "      <td>06-12-2017</td>\n",
       "      <td>West</td>\n",
       "      <td>2360</td>\n",
       "      <td>0.21</td>\n",
       "      <td>165.20</td>\n",
       "      <td>Tamil Nadu</td>\n",
       "    </tr>\n",
       "    <tr>\n",
       "      <th>3</th>\n",
       "      <td>OD4</td>\n",
       "      <td>Jackson</td>\n",
       "      <td>Fruits &amp; Veggies</td>\n",
       "      <td>Fresh Vegetables</td>\n",
       "      <td>Dharmapuri</td>\n",
       "      <td>10-11-2016</td>\n",
       "      <td>South</td>\n",
       "      <td>896</td>\n",
       "      <td>0.25</td>\n",
       "      <td>89.60</td>\n",
       "      <td>Tamil Nadu</td>\n",
       "    </tr>\n",
       "    <tr>\n",
       "      <th>4</th>\n",
       "      <td>OD5</td>\n",
       "      <td>Ridhesh</td>\n",
       "      <td>Food Grains</td>\n",
       "      <td>Organic Staples</td>\n",
       "      <td>Ooty</td>\n",
       "      <td>10-11-2016</td>\n",
       "      <td>South</td>\n",
       "      <td>2355</td>\n",
       "      <td>0.26</td>\n",
       "      <td>918.45</td>\n",
       "      <td>Tamil Nadu</td>\n",
       "    </tr>\n",
       "  </tbody>\n",
       "</table>\n",
       "</div>"
      ],
      "text/plain": [
       "  Order ID Customer Name          Category      Sub Category         City  \\\n",
       "0      OD1        Harish      Oil & Masala           Masalas      Vellore   \n",
       "1      OD2         Sudha         Beverages     Health Drinks  Krishnagiri   \n",
       "2      OD3       Hussain       Food Grains      Atta & Flour   Perambalur   \n",
       "3      OD4       Jackson  Fruits & Veggies  Fresh Vegetables   Dharmapuri   \n",
       "4      OD5       Ridhesh       Food Grains   Organic Staples         Ooty   \n",
       "\n",
       "   Order Date Region  Sales  Discount  Profit       State  \n",
       "0  11-08-2017  North   1254      0.12  401.28  Tamil Nadu  \n",
       "1  11-08-2017  South    749      0.18  149.80  Tamil Nadu  \n",
       "2  06-12-2017   West   2360      0.21  165.20  Tamil Nadu  \n",
       "3  10-11-2016  South    896      0.25   89.60  Tamil Nadu  \n",
       "4  10-11-2016  South   2355      0.26  918.45  Tamil Nadu  "
      ]
     },
     "execution_count": 2,
     "metadata": {},
     "output_type": "execute_result"
    }
   ],
   "source": [
    "# Loading data into sgs(supermart grocery sales) dataframe\n",
    "sgs = pd.read_csv(filepath)\n",
    "\n",
    "print(sgs.shape)\n",
    "sgs.head()"
   ]
  },
  {
   "cell_type": "markdown",
   "id": "9909feaf-1f8c-448f-b0bc-9fa47c6805c1",
   "metadata": {},
   "source": [
    "Previewing the dataset shows that there are 9994 entries with 11 columns. \n",
    "\n",
    "There is the Order ID column which is the primary key. \n",
    "Customer Name column that records the customer that made the purchase\n",
    "\n",
    "For categorical columns ,there are the [category, sub category, city, region, state]columns that has some detail about each individual order.\n",
    "\n",
    "There is a Order Date column recording the dates of the order, and finally there is the numerical cols like [Sales, Discount and Profit]"
   ]
  },
  {
   "cell_type": "markdown",
   "id": "04b03c9e-efcc-4dcb-8949-8f537411b7ee",
   "metadata": {},
   "source": [
    "## Data Cleaning"
   ]
  },
  {
   "cell_type": "markdown",
   "id": "d20cf4d0-dda3-45a0-ac0f-669b8a07d09b",
   "metadata": {},
   "source": [
    "There are a few things that needs to be checked and done before the analysis can proceed.\n",
    "1. Renaming columns to eliminate empty space in between column names\n",
    "2. Validating that columns have the appropriate data type\n",
    "3. Check and remove N/A values or duplicated values if any\n",
    "4. Check for anomalies in categorical and numerical columns (typo errors, values that don't make sense, etc.)\n",
    "\n",
    "---\n",
    "### Renaming Columns for easier access"
   ]
  },
  {
   "cell_type": "code",
   "execution_count": 3,
   "id": "6e30aa55",
   "metadata": {},
   "outputs": [],
   "source": [
    "rename_dict = {'Order ID':'order_id',\n",
    "               'Customer Name':'customer_name',\n",
    "               'Category':'category',\n",
    "               'Sub Category':'sub_category',\n",
    "               'City':'city',\n",
    "               'Order Date':'order_date',\n",
    "               'Region':'region',\n",
    "               'Sales':'sale_price',\n",
    "               'Discount':'discount',\n",
    "               'Profit':'profit',\n",
    "               'State':'state'\n",
    "              }\n",
    "\n",
    "sgs = sgs.rename(columns=rename_dict).copy()"
   ]
  },
  {
   "cell_type": "markdown",
   "id": "1a537464-12cc-4ad7-b2ee-4706ed497cf4",
   "metadata": {},
   "source": [
    "### Validating the datatype of each column"
   ]
  },
  {
   "cell_type": "markdown",
   "id": "f26dde4e-a55d-4457-a45f-55c9b993f430",
   "metadata": {},
   "source": [
    "Checking the datatypes of the resepective columns."
   ]
  },
  {
   "cell_type": "code",
   "execution_count": 4,
   "id": "2a2e2048-8d4c-412d-8fe6-1e7793d27811",
   "metadata": {},
   "outputs": [
    {
     "name": "stdout",
     "output_type": "stream",
     "text": [
      "order_id has the datatype: \t object\n",
      "customer_name has the datatype: \t object\n",
      "category has the datatype: \t object\n",
      "sub_category has the datatype: \t object\n",
      "city has the datatype: \t object\n",
      "order_date has the datatype: \t object\n",
      "region has the datatype: \t object\n",
      "sale_price has the datatype: \t int64\n",
      "discount has the datatype: \t float64\n",
      "profit has the datatype: \t float64\n",
      "state has the datatype: \t object\n"
     ]
    }
   ],
   "source": [
    "for col in sgs.columns:\n",
    "    print(col + ' has the datatype: \\t',  sgs[col].dtype)"
   ]
  },
  {
   "cell_type": "markdown",
   "id": "b2054d53-603c-4ac8-a263-a38d6ab7ff92",
   "metadata": {},
   "source": [
    "Looking at the results, the order date is not recognised as a datetime object. It needs to be converted to a datetime object column."
   ]
  },
  {
   "cell_type": "code",
   "execution_count": 5,
   "id": "8629885a",
   "metadata": {},
   "outputs": [],
   "source": [
    "# Converting order_date to datetime datatype\n",
    "sgs['order_date'] = pd.to_datetime(sgs['order_date'])"
   ]
  },
  {
   "cell_type": "markdown",
   "id": "1a082730-404a-4ce8-af9b-b550c31ea17e",
   "metadata": {},
   "source": [
    "### Checking for N/A and duplicate values"
   ]
  },
  {
   "cell_type": "code",
   "execution_count": 6,
   "id": "de2cdec0",
   "metadata": {},
   "outputs": [
    {
     "data": {
      "text/plain": [
       "order_id         False\n",
       "customer_name    False\n",
       "category         False\n",
       "sub_category     False\n",
       "city             False\n",
       "order_date       False\n",
       "region           False\n",
       "sale_price       False\n",
       "discount         False\n",
       "profit           False\n",
       "state            False\n",
       "dtype: bool"
      ]
     },
     "execution_count": 6,
     "metadata": {},
     "output_type": "execute_result"
    }
   ],
   "source": [
    "sgs.isna().all()"
   ]
  },
  {
   "cell_type": "code",
   "execution_count": 7,
   "id": "a6375a88-54ad-4a79-9da8-889c4623bb86",
   "metadata": {},
   "outputs": [
    {
     "data": {
      "text/plain": [
       "0"
      ]
     },
     "execution_count": 7,
     "metadata": {},
     "output_type": "execute_result"
    }
   ],
   "source": [
    "sgs.duplicated().sum()"
   ]
  },
  {
   "cell_type": "markdown",
   "id": "89352192-fd8d-41b4-aac2-46655e77d4ac",
   "metadata": {
    "tags": []
   },
   "source": [
    "### Checking for weird values or any error in data\n",
    "\n",
    "First, the categorical columns are checked. Histograms for the columns were plotted for easier inspection"
   ]
  },
  {
   "cell_type": "code",
   "execution_count": 8,
   "id": "42ccda58-beb1-4bd2-a2d3-e668b4aab607",
   "metadata": {},
   "outputs": [],
   "source": [
    "categorical_columns = ['category','sub_category','city','region', 'state']"
   ]
  },
  {
   "cell_type": "code",
   "execution_count": 9,
   "id": "09683cab-c914-43db-a086-4d1dfe8fce28",
   "metadata": {},
   "outputs": [
    {
     "data": {
      "image/png": "[encoded data removed]",
      "text/plain": [
       "<Figure size 720x432 with 1 Axes>"
      ]
     },
     "metadata": {
      "needs_background": "light"
     },
     "output_type": "display_data"
    },
    {
     "data": {
      "image/png": "[encoded data removed]",
      "text/plain": [
       "<Figure size 720x432 with 1 Axes>"
      ]
     },
     "metadata": {
      "needs_background": "light"
     },
     "output_type": "display_data"
    },
    {
     "data": {
      "image/png": "[encoded data removed]",
      "text/plain": [
       "<Figure size 720x432 with 1 Axes>"
      ]
     },
     "metadata": {
      "needs_background": "light"
     },
     "output_type": "display_data"
    },
    {
     "data": {
      "image/png": "[encoded data removed]",
      "text/plain": [
       "<Figure size 720x432 with 1 Axes>"
      ]
     },
     "metadata": {
      "needs_background": "light"
     },
     "output_type": "display_data"
    },
    {
     "data": {
      "image/png": "[encoded data removed]",
      "text/plain": [
       "<Figure size 720x432 with 1 Axes>"
      ]
     },
     "metadata": {
      "needs_background": "light"
     },
     "output_type": "display_data"
    }
   ],
   "source": [
    "for col in categorical_columns:\n",
    "    plt.figure(figsize=(10,6))\n",
    "    sns.countplot(x=col, data=sgs)\n",
    "    plt.xlabel(col.capitalize())\n",
    "    plt.xticks(rotation='90')\n",
    "    plt.tight_layout()\n",
    "    plt.show()"
   ]
  },
  {
   "cell_type": "code",
   "execution_count": 10,
   "id": "3ceea803-b027-4092-9038-8c8e0bddf913",
   "metadata": {},
   "outputs": [
    {
     "data": {
      "text/plain": [
       "West       3203\n",
       "East       2848\n",
       "Central    2323\n",
       "South      1619\n",
       "North         1\n",
       "Name: region, dtype: int64"
      ]
     },
     "execution_count": 10,
     "metadata": {},
     "output_type": "execute_result"
    }
   ],
   "source": [
    "sgs.region.value_counts()"
   ]
  },
  {
   "cell_type": "markdown",
   "id": "11c756b9-68aa-4dfa-998b-bd20920951df",
   "metadata": {},
   "source": [
    "From the histograms, the findings are:\n",
    "1. Region column - there is only one row of data for the north region. Considering the fact that it is only one column, it is safe to drop it without much concern of loss of data. \n",
    "2. The State column contains exclusively one value, which is \"Tamil Nadu\". This might be a dataset that is filtered by this state in the first place. Considering this, it is safe to drop the entire column as it won't be helpful in the analysis."
   ]
  },
  {
   "cell_type": "code",
   "execution_count": 11,
   "id": "6ebb1fde-7649-4779-b968-fb4b929cd59e",
   "metadata": {},
   "outputs": [],
   "source": [
    "# Removing the state column\n",
    "sgs = sgs.drop(columns=['state']).copy()\n",
    "\n",
    "# Removing the row of data that contains region == North\n",
    "index_to_remove = sgs[sgs.region == 'North'].index.values\n",
    "sgs = sgs.drop(index = index_to_remove).copy()"
   ]
  },
  {
   "cell_type": "code",
   "execution_count": 27,
   "id": "27e24151-5c09-4aff-abff-6640f7961ca9",
   "metadata": {},
   "outputs": [
    {
     "name": "stdout",
     "output_type": "stream",
     "text": [
      "Index(['order_id', 'customer_name', 'category', 'sub_category', 'city',\n",
      "       'order_date', 'region', 'sale_price', 'discount', 'profit'],\n",
      "      dtype='object')\n",
      "\n",
      "West       3203\n",
      "East       2848\n",
      "Central    2323\n",
      "South      1619\n",
      "Name: region, dtype: int64\n"
     ]
    }
   ],
   "source": [
    "# Vallidating that the \"North\" entry has been removed\n",
    "\n",
    "print(sgs.columns)\n",
    "print(\"\")\n",
    "print(sgs.region.value_counts())\n"
   ]
  },
  {
   "cell_type": "markdown",
   "id": "4b0811f1-58da-42d5-8fa8-f518037e337b",
   "metadata": {},
   "source": [
    "### Checking numerical columns anomalies"
   ]
  },
  {
   "cell_type": "code",
   "execution_count": 13,
   "id": "c06c280b-7ec8-40a2-a8f7-14a1d00bb355",
   "metadata": {},
   "outputs": [],
   "source": [
    "x = list(sgs.columns.values)\n"
   ]
  },
  {
   "cell_type": "code",
   "execution_count": 14,
   "id": "ba1018de-f95e-4109-9057-fa54b0e32dcf",
   "metadata": {},
   "outputs": [],
   "source": [
    "numerical_cols = ['sale_price','discount','profit']"
   ]
  },
  {
   "cell_type": "code",
   "execution_count": null,
   "id": "f08bdf5d-a51a-4ba8-9ab0-a23e94647568",
   "metadata": {},
   "outputs": [],
   "source": []
  },
  {
   "cell_type": "code",
   "execution_count": 15,
   "id": "a3a78231-2640-4db3-9478-c76cce78c98c",
   "metadata": {},
   "outputs": [],
   "source": [
    "numerical_cols = []"
   ]
  },
  {
   "cell_type": "code",
   "execution_count": 16,
   "id": "e4bb56d3-fdb5-432b-bb5a-4d5d4cb94cdf",
   "metadata": {},
   "outputs": [
    {
     "data": {
      "text/plain": [
       "['category', 'sub_category', 'city', 'region', 'state']"
      ]
     },
     "execution_count": 16,
     "metadata": {},
     "output_type": "execute_result"
    }
   ],
   "source": [
    "categorical_columns"
   ]
  },
  {
   "cell_type": "code",
   "execution_count": null,
   "id": "d4787d1e-a949-47ed-86cb-1832d40dc518",
   "metadata": {},
   "outputs": [],
   "source": []
  },
  {
   "cell_type": "markdown",
   "id": "d859e8d9",
   "metadata": {},
   "source": [
    "1. Determine which items sells the best - gives the best profit\n",
    "2. Which items sells the worst - is there anything actionable\n",
    "\n",
    "Ideas for metrics of investigation\n",
    "1. Over time - is the performance consistent or had a sudden spike\n",
    "2. By region ?\n",
    "\n",
    "Hypothesis testing\n",
    "1. Any difference in sales distribution between regions for certain sales product, chi_square? anova?\n",
    "2. Does a good/poor performing item perform better in a specific region/city?"
   ]
  },
  {
   "cell_type": "code",
   "execution_count": 17,
   "id": "c5c47d34",
   "metadata": {},
   "outputs": [
    {
     "data": {
      "text/html": [
       "<div>\n",
       "<style scoped>\n",
       "    .dataframe tbody tr th:only-of-type {\n",
       "        vertical-align: middle;\n",
       "    }\n",
       "\n",
       "    .dataframe tbody tr th {\n",
       "        vertical-align: top;\n",
       "    }\n",
       "\n",
       "    .dataframe thead th {\n",
       "        text-align: right;\n",
       "    }\n",
       "</style>\n",
       "<table border=\"1\" class=\"dataframe\">\n",
       "  <thead>\n",
       "    <tr style=\"text-align: right;\">\n",
       "      <th></th>\n",
       "      <th>order_id</th>\n",
       "      <th>customer_name</th>\n",
       "      <th>category</th>\n",
       "      <th>sub_category</th>\n",
       "      <th>city</th>\n",
       "      <th>order_date</th>\n",
       "      <th>region</th>\n",
       "      <th>sale_price</th>\n",
       "      <th>discount</th>\n",
       "      <th>profit</th>\n",
       "    </tr>\n",
       "  </thead>\n",
       "  <tbody>\n",
       "    <tr>\n",
       "      <th>1</th>\n",
       "      <td>OD2</td>\n",
       "      <td>Sudha</td>\n",
       "      <td>Beverages</td>\n",
       "      <td>Health Drinks</td>\n",
       "      <td>Krishnagiri</td>\n",
       "      <td>2017-11-08</td>\n",
       "      <td>South</td>\n",
       "      <td>749</td>\n",
       "      <td>0.18</td>\n",
       "      <td>149.80</td>\n",
       "    </tr>\n",
       "    <tr>\n",
       "      <th>2</th>\n",
       "      <td>OD3</td>\n",
       "      <td>Hussain</td>\n",
       "      <td>Food Grains</td>\n",
       "      <td>Atta &amp; Flour</td>\n",
       "      <td>Perambalur</td>\n",
       "      <td>2017-06-12</td>\n",
       "      <td>West</td>\n",
       "      <td>2360</td>\n",
       "      <td>0.21</td>\n",
       "      <td>165.20</td>\n",
       "    </tr>\n",
       "    <tr>\n",
       "      <th>3</th>\n",
       "      <td>OD4</td>\n",
       "      <td>Jackson</td>\n",
       "      <td>Fruits &amp; Veggies</td>\n",
       "      <td>Fresh Vegetables</td>\n",
       "      <td>Dharmapuri</td>\n",
       "      <td>2016-10-11</td>\n",
       "      <td>South</td>\n",
       "      <td>896</td>\n",
       "      <td>0.25</td>\n",
       "      <td>89.60</td>\n",
       "    </tr>\n",
       "    <tr>\n",
       "      <th>4</th>\n",
       "      <td>OD5</td>\n",
       "      <td>Ridhesh</td>\n",
       "      <td>Food Grains</td>\n",
       "      <td>Organic Staples</td>\n",
       "      <td>Ooty</td>\n",
       "      <td>2016-10-11</td>\n",
       "      <td>South</td>\n",
       "      <td>2355</td>\n",
       "      <td>0.26</td>\n",
       "      <td>918.45</td>\n",
       "    </tr>\n",
       "    <tr>\n",
       "      <th>5</th>\n",
       "      <td>OD6</td>\n",
       "      <td>Adavan</td>\n",
       "      <td>Food Grains</td>\n",
       "      <td>Organic Staples</td>\n",
       "      <td>Dharmapuri</td>\n",
       "      <td>2015-06-09</td>\n",
       "      <td>West</td>\n",
       "      <td>2305</td>\n",
       "      <td>0.26</td>\n",
       "      <td>322.70</td>\n",
       "    </tr>\n",
       "    <tr>\n",
       "      <th>...</th>\n",
       "      <td>...</td>\n",
       "      <td>...</td>\n",
       "      <td>...</td>\n",
       "      <td>...</td>\n",
       "      <td>...</td>\n",
       "      <td>...</td>\n",
       "      <td>...</td>\n",
       "      <td>...</td>\n",
       "      <td>...</td>\n",
       "      <td>...</td>\n",
       "    </tr>\n",
       "    <tr>\n",
       "      <th>9989</th>\n",
       "      <td>OD9990</td>\n",
       "      <td>Sudeep</td>\n",
       "      <td>Eggs, Meat &amp; Fish</td>\n",
       "      <td>Eggs</td>\n",
       "      <td>Madurai</td>\n",
       "      <td>2015-12-24</td>\n",
       "      <td>West</td>\n",
       "      <td>945</td>\n",
       "      <td>0.16</td>\n",
       "      <td>359.10</td>\n",
       "    </tr>\n",
       "    <tr>\n",
       "      <th>9990</th>\n",
       "      <td>OD9991</td>\n",
       "      <td>Alan</td>\n",
       "      <td>Bakery</td>\n",
       "      <td>Biscuits</td>\n",
       "      <td>Kanyakumari</td>\n",
       "      <td>2015-07-12</td>\n",
       "      <td>West</td>\n",
       "      <td>1195</td>\n",
       "      <td>0.26</td>\n",
       "      <td>71.70</td>\n",
       "    </tr>\n",
       "    <tr>\n",
       "      <th>9991</th>\n",
       "      <td>OD9992</td>\n",
       "      <td>Ravi</td>\n",
       "      <td>Food Grains</td>\n",
       "      <td>Rice</td>\n",
       "      <td>Bodi</td>\n",
       "      <td>2017-06-06</td>\n",
       "      <td>West</td>\n",
       "      <td>1567</td>\n",
       "      <td>0.16</td>\n",
       "      <td>501.44</td>\n",
       "    </tr>\n",
       "    <tr>\n",
       "      <th>9992</th>\n",
       "      <td>OD9993</td>\n",
       "      <td>Peer</td>\n",
       "      <td>Oil &amp; Masala</td>\n",
       "      <td>Spices</td>\n",
       "      <td>Pudukottai</td>\n",
       "      <td>2018-10-16</td>\n",
       "      <td>West</td>\n",
       "      <td>1659</td>\n",
       "      <td>0.15</td>\n",
       "      <td>597.24</td>\n",
       "    </tr>\n",
       "    <tr>\n",
       "      <th>9993</th>\n",
       "      <td>OD9994</td>\n",
       "      <td>Ganesh</td>\n",
       "      <td>Food Grains</td>\n",
       "      <td>Atta &amp; Flour</td>\n",
       "      <td>Tirunelveli</td>\n",
       "      <td>2018-04-17</td>\n",
       "      <td>West</td>\n",
       "      <td>1034</td>\n",
       "      <td>0.28</td>\n",
       "      <td>165.44</td>\n",
       "    </tr>\n",
       "  </tbody>\n",
       "</table>\n",
       "<p>9993 rows × 10 columns</p>\n",
       "</div>"
      ],
      "text/plain": [
       "     order_id customer_name           category      sub_category         city  \\\n",
       "1         OD2         Sudha          Beverages     Health Drinks  Krishnagiri   \n",
       "2         OD3       Hussain        Food Grains      Atta & Flour   Perambalur   \n",
       "3         OD4       Jackson   Fruits & Veggies  Fresh Vegetables   Dharmapuri   \n",
       "4         OD5       Ridhesh        Food Grains   Organic Staples         Ooty   \n",
       "5         OD6        Adavan        Food Grains   Organic Staples   Dharmapuri   \n",
       "...       ...           ...                ...               ...          ...   \n",
       "9989   OD9990        Sudeep  Eggs, Meat & Fish              Eggs      Madurai   \n",
       "9990   OD9991          Alan             Bakery          Biscuits  Kanyakumari   \n",
       "9991   OD9992          Ravi        Food Grains              Rice         Bodi   \n",
       "9992   OD9993          Peer       Oil & Masala            Spices   Pudukottai   \n",
       "9993   OD9994        Ganesh        Food Grains      Atta & Flour  Tirunelveli   \n",
       "\n",
       "     order_date region  sale_price  discount  profit  \n",
       "1    2017-11-08  South         749      0.18  149.80  \n",
       "2    2017-06-12   West        2360      0.21  165.20  \n",
       "3    2016-10-11  South         896      0.25   89.60  \n",
       "4    2016-10-11  South        2355      0.26  918.45  \n",
       "5    2015-06-09   West        2305      0.26  322.70  \n",
       "...         ...    ...         ...       ...     ...  \n",
       "9989 2015-12-24   West         945      0.16  359.10  \n",
       "9990 2015-07-12   West        1195      0.26   71.70  \n",
       "9991 2017-06-06   West        1567      0.16  501.44  \n",
       "9992 2018-10-16   West        1659      0.15  597.24  \n",
       "9993 2018-04-17   West        1034      0.28  165.44  \n",
       "\n",
       "[9993 rows x 10 columns]"
      ]
     },
     "execution_count": 17,
     "metadata": {},
     "output_type": "execute_result"
    }
   ],
   "source": [
    "# Adding features\n",
    "sgs"
   ]
  },
  {
   "cell_type": "code",
   "execution_count": 18,
   "id": "44c1fe13",
   "metadata": {},
   "outputs": [],
   "source": [
    "no_of_sales_per_category =  sgs['category'].value_counts().rename('no_of_sales')\n",
    "sum_sales_profit_per_category = sgs.groupby('category')[['sale_price','profit']].sum()"
   ]
  },
  {
   "cell_type": "code",
   "execution_count": 19,
   "id": "330829f8",
   "metadata": {},
   "outputs": [],
   "source": [
    "summary_by_category = pd.merge(left=no_of_sales_per_category, right=sum_sales_profit_per_category, left_index=True, right_index=True)"
   ]
  },
  {
   "cell_type": "code",
   "execution_count": 20,
   "id": "2aeec2e4-a2bc-44fd-94bd-193d8fc4b74b",
   "metadata": {},
   "outputs": [
    {
     "data": {
      "text/html": [
       "<div>\n",
       "<style scoped>\n",
       "    .dataframe tbody tr th:only-of-type {\n",
       "        vertical-align: middle;\n",
       "    }\n",
       "\n",
       "    .dataframe tbody tr th {\n",
       "        vertical-align: top;\n",
       "    }\n",
       "\n",
       "    .dataframe thead th {\n",
       "        text-align: right;\n",
       "    }\n",
       "</style>\n",
       "<table border=\"1\" class=\"dataframe\">\n",
       "  <thead>\n",
       "    <tr style=\"text-align: right;\">\n",
       "      <th></th>\n",
       "      <th>no_of_sales</th>\n",
       "      <th>sale_price</th>\n",
       "      <th>profit</th>\n",
       "    </tr>\n",
       "  </thead>\n",
       "  <tbody>\n",
       "    <tr>\n",
       "      <th>Snacks</th>\n",
       "      <td>1514</td>\n",
       "      <td>2237546</td>\n",
       "      <td>568178.85</td>\n",
       "    </tr>\n",
       "    <tr>\n",
       "      <th>Eggs, Meat &amp; Fish</th>\n",
       "      <td>1490</td>\n",
       "      <td>2267401</td>\n",
       "      <td>567357.22</td>\n",
       "    </tr>\n",
       "    <tr>\n",
       "      <th>Fruits &amp; Veggies</th>\n",
       "      <td>1418</td>\n",
       "      <td>2100727</td>\n",
       "      <td>530400.38</td>\n",
       "    </tr>\n",
       "    <tr>\n",
       "      <th>Bakery</th>\n",
       "      <td>1413</td>\n",
       "      <td>2112281</td>\n",
       "      <td>528521.06</td>\n",
       "    </tr>\n",
       "    <tr>\n",
       "      <th>Beverages</th>\n",
       "      <td>1400</td>\n",
       "      <td>2085313</td>\n",
       "      <td>525605.76</td>\n",
       "    </tr>\n",
       "    <tr>\n",
       "      <th>Food Grains</th>\n",
       "      <td>1398</td>\n",
       "      <td>2115272</td>\n",
       "      <td>529162.64</td>\n",
       "    </tr>\n",
       "    <tr>\n",
       "      <th>Oil &amp; Masala</th>\n",
       "      <td>1360</td>\n",
       "      <td>2037188</td>\n",
       "      <td>497494.01</td>\n",
       "    </tr>\n",
       "  </tbody>\n",
       "</table>\n",
       "</div>"
      ],
      "text/plain": [
       "                   no_of_sales  sale_price     profit\n",
       "Snacks                    1514     2237546  568178.85\n",
       "Eggs, Meat & Fish         1490     2267401  567357.22\n",
       "Fruits & Veggies          1418     2100727  530400.38\n",
       "Bakery                    1413     2112281  528521.06\n",
       "Beverages                 1400     2085313  525605.76\n",
       "Food Grains               1398     2115272  529162.64\n",
       "Oil & Masala              1360     2037188  497494.01"
      ]
     },
     "execution_count": 20,
     "metadata": {},
     "output_type": "execute_result"
    }
   ],
   "source": [
    "summary_by_category"
   ]
  },
  {
   "cell_type": "code",
   "execution_count": null,
   "id": "00de735c-f739-4e3c-8963-7abff36c6241",
   "metadata": {},
   "outputs": [],
   "source": []
  }
 ],
 "metadata": {
  "kernelspec": {
   "display_name": "Python 3 (ipykernel)",
   "language": "python",
   "name": "python3"
  },
  "language_info": {
   "codemirror_mode": {
    "name": "ipython",
    "version": 3
   },
   "file_extension": ".py",
   "mimetype": "text/x-python",
   "name": "python",
   "nbconvert_exporter": "python",
   "pygments_lexer": "ipython3",
   "version": "3.8.13"
  },
  "toc-showcode": false,
  "toc-showmarkdowntxt": false
 },
 "nbformat": 4,
 "nbformat_minor": 5
}
